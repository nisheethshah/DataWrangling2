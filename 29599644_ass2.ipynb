{
 "cells": [
  {
   "attachments": {
    "monash-1.png": {
     "image/png": "[encoded data removed]"
    }
   },
   "cell_type": "markdown",
   "metadata": {},
   "source": [
    "![monash-1.png](attachment:monash-1.png)"
   ]
  },
  {
   "cell_type": "markdown",
   "metadata": {},
   "source": [
    "# FIT5196 Task 1 in Assessment 2\n",
    "#### Student Name: Nisheeth Shah\n",
    "#### Student ID: 29599644\n",
    "\n",
    "Date: 02/10/2018\n",
    "\n",
    "Environment: Python 3.x and Jupyter notebook\n",
    "\n",
    "The main libraries used in the assignment are:\n",
    "* pandas (to perform operations on the dataframe) \n",
    "* matplotlib (for plotting graphs)\n",
    "* sklearn (for linear regression) "
   ]
  },
  {
   "cell_type": "markdown",
   "metadata": {},
   "source": [
    "## Data Cleansing"
   ]
  },
  {
   "cell_type": "markdown",
   "metadata": {},
   "source": [
    "### Importing required libraries"
   ]
  },
  {
   "cell_type": "code",
   "execution_count": 1,
   "metadata": {},
   "outputs": [
    {
     "ename": "KeyboardInterrupt",
     "evalue": "",
     "output_type": "error",
     "traceback": [
      "\u001b[1;31m---------------------------------------------------------------------------\u001b[0m",
      "\u001b[1;31mKeyboardInterrupt\u001b[0m                         Traceback (most recent call last)",
      "\u001b[1;32m<ipython-input-1-d4996c3148c2>\u001b[0m in \u001b[0;36m<module>\u001b[1;34m()\u001b[0m\n\u001b[0;32m     14\u001b[0m \u001b[1;32mfrom\u001b[0m \u001b[0mrandom\u001b[0m \u001b[1;32mimport\u001b[0m \u001b[0mrandint\u001b[0m\u001b[1;33m\u001b[0m\u001b[0m\n\u001b[0;32m     15\u001b[0m \u001b[1;32mimport\u001b[0m \u001b[0mimpyute\u001b[0m\u001b[1;33m\u001b[0m\u001b[0m\n\u001b[1;32m---> 16\u001b[1;33m \u001b[1;32mimport\u001b[0m \u001b[0mstatsmodels\u001b[0m\u001b[1;33m.\u001b[0m\u001b[0mapi\u001b[0m \u001b[1;32mas\u001b[0m \u001b[0msm\u001b[0m\u001b[1;33m\u001b[0m\u001b[0m\n\u001b[0m\u001b[0;32m     17\u001b[0m \u001b[1;32mimport\u001b[0m \u001b[0mpylab\u001b[0m\u001b[1;33m\u001b[0m\u001b[0m\n",
      "\u001b[1;32m~\\AppData\\Local\\Continuum\\anaconda3\\lib\\site-packages\\statsmodels\\api.py\u001b[0m in \u001b[0;36m<module>\u001b[1;34m()\u001b[0m\n\u001b[0;32m     12\u001b[0m                          \u001b[0mcov_struct\u001b[0m\u001b[1;33m,\u001b[0m\u001b[1;33m\u001b[0m\u001b[0m\n\u001b[0;32m     13\u001b[0m                          BinomialBayesMixedGLM, PoissonBayesMixedGLM)\n\u001b[1;32m---> 14\u001b[1;33m \u001b[1;32mfrom\u001b[0m \u001b[1;33m.\u001b[0m \u001b[1;32mimport\u001b[0m \u001b[0mrobust\u001b[0m\u001b[1;33m\u001b[0m\u001b[0m\n\u001b[0m\u001b[0;32m     15\u001b[0m \u001b[1;32mfrom\u001b[0m \u001b[1;33m.\u001b[0m\u001b[0mrobust\u001b[0m\u001b[1;33m.\u001b[0m\u001b[0mrobust_linear_model\u001b[0m \u001b[1;32mimport\u001b[0m \u001b[0mRLM\u001b[0m\u001b[1;33m\u001b[0m\u001b[0m\n\u001b[0;32m     16\u001b[0m from .discrete.discrete_model import (Poisson, Logit, Probit,\n",
      "\u001b[1;32m~\\AppData\\Local\\Continuum\\anaconda3\\lib\\site-packages\\statsmodels\\robust\\__init__.py\u001b[0m in \u001b[0;36m<module>\u001b[1;34m()\u001b[0m\n\u001b[0;32m      3\u001b[0m \"\"\"\n\u001b[0;32m      4\u001b[0m \u001b[1;32mfrom\u001b[0m \u001b[1;33m.\u001b[0m \u001b[1;32mimport\u001b[0m \u001b[0mnorms\u001b[0m\u001b[1;33m\u001b[0m\u001b[0m\n\u001b[1;32m----> 5\u001b[1;33m \u001b[1;32mfrom\u001b[0m \u001b[1;33m.\u001b[0m\u001b[0mscale\u001b[0m \u001b[1;32mimport\u001b[0m \u001b[0mmad\u001b[0m\u001b[1;33m,\u001b[0m \u001b[0mHuber\u001b[0m\u001b[1;33m,\u001b[0m \u001b[0mHuberScale\u001b[0m\u001b[1;33m,\u001b[0m \u001b[0mhubers_scale\u001b[0m\u001b[1;33m\u001b[0m\u001b[0m\n\u001b[0m\u001b[0;32m      6\u001b[0m \u001b[1;33m\u001b[0m\u001b[0m\n\u001b[0;32m      7\u001b[0m \u001b[1;32mfrom\u001b[0m \u001b[0mstatsmodels\u001b[0m \u001b[1;32mimport\u001b[0m \u001b[0mPytestTester\u001b[0m\u001b[1;33m\u001b[0m\u001b[0m\n",
      "\u001b[1;32m~\\AppData\\Local\\Continuum\\anaconda3\\lib\\site-packages\\statsmodels\\robust\\scale.py\u001b[0m in \u001b[0;36m<module>\u001b[1;34m()\u001b[0m\n\u001b[0;32m     15\u001b[0m \u001b[1;32mfrom\u001b[0m \u001b[0mstatsmodels\u001b[0m\u001b[1;33m.\u001b[0m\u001b[0mtools\u001b[0m \u001b[1;32mimport\u001b[0m \u001b[0mtools\u001b[0m\u001b[1;33m\u001b[0m\u001b[0m\n\u001b[0;32m     16\u001b[0m \u001b[1;33m\u001b[0m\u001b[0m\n\u001b[1;32m---> 17\u001b[1;33m \u001b[1;32mdef\u001b[0m \u001b[0mmad\u001b[0m\u001b[1;33m(\u001b[0m\u001b[0ma\u001b[0m\u001b[1;33m,\u001b[0m \u001b[0mc\u001b[0m\u001b[1;33m=\u001b[0m\u001b[0mGaussian\u001b[0m\u001b[1;33m.\u001b[0m\u001b[0mppf\u001b[0m\u001b[1;33m(\u001b[0m\u001b[1;36m3\u001b[0m\u001b[1;33m/\u001b[0m\u001b[1;36m4.\u001b[0m\u001b[1;33m)\u001b[0m\u001b[1;33m,\u001b[0m \u001b[0maxis\u001b[0m\u001b[1;33m=\u001b[0m\u001b[1;36m0\u001b[0m\u001b[1;33m,\u001b[0m \u001b[0mcenter\u001b[0m\u001b[1;33m=\u001b[0m\u001b[0mnp\u001b[0m\u001b[1;33m.\u001b[0m\u001b[0mmedian\u001b[0m\u001b[1;33m)\u001b[0m\u001b[1;33m:\u001b[0m\u001b[1;33m\u001b[0m\u001b[0m\n\u001b[0m\u001b[0;32m     18\u001b[0m     \u001b[1;31m# c \\approx .6745\u001b[0m\u001b[1;33m\u001b[0m\u001b[1;33m\u001b[0m\u001b[0m\n\u001b[0;32m     19\u001b[0m     \"\"\"\n",
      "\u001b[1;32m~\\AppData\\Local\\Continuum\\anaconda3\\lib\\site-packages\\scipy\\stats\\_distn_infrastructure.py\u001b[0m in \u001b[0;36mppf\u001b[1;34m(self, q, *args, **kwds)\u001b[0m\n\u001b[0;32m   1901\u001b[0m         \u001b[0mq\u001b[0m\u001b[1;33m,\u001b[0m \u001b[0mloc\u001b[0m\u001b[1;33m,\u001b[0m \u001b[0mscale\u001b[0m \u001b[1;33m=\u001b[0m \u001b[0mmap\u001b[0m\u001b[1;33m(\u001b[0m\u001b[0masarray\u001b[0m\u001b[1;33m,\u001b[0m \u001b[1;33m(\u001b[0m\u001b[0mq\u001b[0m\u001b[1;33m,\u001b[0m \u001b[0mloc\u001b[0m\u001b[1;33m,\u001b[0m \u001b[0mscale\u001b[0m\u001b[1;33m)\u001b[0m\u001b[1;33m)\u001b[0m\u001b[1;33m\u001b[0m\u001b[0m\n\u001b[0;32m   1902\u001b[0m         \u001b[0margs\u001b[0m \u001b[1;33m=\u001b[0m \u001b[0mtuple\u001b[0m\u001b[1;33m(\u001b[0m\u001b[0mmap\u001b[0m\u001b[1;33m(\u001b[0m\u001b[0masarray\u001b[0m\u001b[1;33m,\u001b[0m \u001b[0margs\u001b[0m\u001b[1;33m)\u001b[0m\u001b[1;33m)\u001b[0m\u001b[1;33m\u001b[0m\u001b[0m\n\u001b[1;32m-> 1903\u001b[1;33m         \u001b[0mcond0\u001b[0m \u001b[1;33m=\u001b[0m \u001b[0mself\u001b[0m\u001b[1;33m.\u001b[0m\u001b[0m_argcheck\u001b[0m\u001b[1;33m(\u001b[0m\u001b[1;33m*\u001b[0m\u001b[0margs\u001b[0m\u001b[1;33m)\u001b[0m \u001b[1;33m&\u001b[0m \u001b[1;33m(\u001b[0m\u001b[0mscale\u001b[0m \u001b[1;33m>\u001b[0m \u001b[1;36m0\u001b[0m\u001b[1;33m)\u001b[0m \u001b[1;33m&\u001b[0m \u001b[1;33m(\u001b[0m\u001b[0mloc\u001b[0m \u001b[1;33m==\u001b[0m \u001b[0mloc\u001b[0m\u001b[1;33m)\u001b[0m\u001b[1;33m\u001b[0m\u001b[0m\n\u001b[0m\u001b[0;32m   1904\u001b[0m         \u001b[0mcond1\u001b[0m \u001b[1;33m=\u001b[0m \u001b[1;33m(\u001b[0m\u001b[1;36m0\u001b[0m \u001b[1;33m<\u001b[0m \u001b[0mq\u001b[0m\u001b[1;33m)\u001b[0m \u001b[1;33m&\u001b[0m \u001b[1;33m(\u001b[0m\u001b[0mq\u001b[0m \u001b[1;33m<\u001b[0m \u001b[1;36m1\u001b[0m\u001b[1;33m)\u001b[0m\u001b[1;33m\u001b[0m\u001b[0m\n\u001b[0;32m   1905\u001b[0m         \u001b[0mcond2\u001b[0m \u001b[1;33m=\u001b[0m \u001b[0mcond0\u001b[0m \u001b[1;33m&\u001b[0m \u001b[1;33m(\u001b[0m\u001b[0mq\u001b[0m \u001b[1;33m==\u001b[0m \u001b[1;36m0\u001b[0m\u001b[1;33m)\u001b[0m\u001b[1;33m\u001b[0m\u001b[0m\n",
      "\u001b[1;31mKeyboardInterrupt\u001b[0m: "
     ]
    }
   ],
   "source": [
    "%matplotlib inline\n",
    "\n",
    "import pandas as pd\n",
    "import numpy as np\n",
    "import scipy.stats as stats\n",
    "import matplotlib.pyplot as plt\n",
    "import missingno as msno\n",
    "import seaborn as sns\n",
    "from scipy.stats import ttest_ind, ttest_ind_from_stats\n",
    "import sklearn\n",
    "from sklearn.linear_model import LinearRegression\n",
    "from sklearn.model_selection import train_test_split\n",
    "from sklearn.metrics import mean_squared_error, r2_score\n",
    "from random import randint\n",
    "import impyute\n",
    "import statsmodels.api as sm\n",
    "import pylab"
   ]
  },
  {
   "cell_type": "markdown",
   "metadata": {},
   "source": [
    "### Reading csv data file into pandas dataframe and having initial glance at the data"
   ]
  },
  {
   "cell_type": "code",
   "execution_count": 2,
   "metadata": {},
   "outputs": [],
   "source": [
    "df = pd.read_csv(\"29599644.csv\") "
   ]
  },
  {
   "cell_type": "markdown",
   "metadata": {},
   "source": [
    "Read the first 10 lines of the data to have initial understanding of what the data is"
   ]
  },
  {
   "cell_type": "code",
   "execution_count": 6,
   "metadata": {},
   "outputs": [
    {
     "data": {
      "text/html": [
       "<div>\n",
       "<style scoped>\n",
       "    .dataframe tbody tr th:only-of-type {\n",
       "        vertical-align: middle;\n",
       "    }\n",
       "\n",
       "    .dataframe tbody tr th {\n",
       "        vertical-align: top;\n",
       "    }\n",
       "\n",
       "    .dataframe thead th {\n",
       "        text-align: right;\n",
       "    }\n",
       "</style>\n",
       "<table border=\"1\" class=\"dataframe\">\n",
       "  <thead>\n",
       "    <tr style=\"text-align: right;\">\n",
       "      <th></th>\n",
       "      <th>Id</th>\n",
       "      <th>Drone Type</th>\n",
       "      <th>Post Type</th>\n",
       "      <th>Package Weight</th>\n",
       "      <th>Origin Region</th>\n",
       "      <th>Destination Region</th>\n",
       "      <th>Origin Latitude</th>\n",
       "      <th>Origin Longitude</th>\n",
       "      <th>Destination Latitude</th>\n",
       "      <th>Destination Longitude</th>\n",
       "      <th>Journey Distance</th>\n",
       "      <th>Departure Date</th>\n",
       "      <th>Departure Time</th>\n",
       "      <th>Travel Time</th>\n",
       "      <th>Delivery Time</th>\n",
       "      <th>Delivery Fare</th>\n",
       "    </tr>\n",
       "  </thead>\n",
       "  <tbody>\n",
       "    <tr>\n",
       "      <th>0</th>\n",
       "      <td>ID1407767162</td>\n",
       "      <td>1.0</td>\n",
       "      <td>0.0</td>\n",
       "      <td>5.652</td>\n",
       "      <td>28.0</td>\n",
       "      <td>35.0</td>\n",
       "      <td>-36.675098</td>\n",
       "      <td>147.614225</td>\n",
       "      <td>-38.712987</td>\n",
       "      <td>146.159349</td>\n",
       "      <td>260.537</td>\n",
       "      <td>2018-03-25</td>\n",
       "      <td>08:59:20</td>\n",
       "      <td>251.52</td>\n",
       "      <td>13:10:51</td>\n",
       "      <td>99.62</td>\n",
       "    </tr>\n",
       "    <tr>\n",
       "      <th>1</th>\n",
       "      <td>ID1986741281</td>\n",
       "      <td>1.0</td>\n",
       "      <td>0.0</td>\n",
       "      <td>42.025</td>\n",
       "      <td>35.0</td>\n",
       "      <td>41.0</td>\n",
       "      <td>-38.665431</td>\n",
       "      <td>146.202615</td>\n",
       "      <td>-37.859710</td>\n",
       "      <td>147.666017</td>\n",
       "      <td>156.216</td>\n",
       "      <td>2018-03-19</td>\n",
       "      <td>00:17:49</td>\n",
       "      <td>153.72</td>\n",
       "      <td>2:51:32</td>\n",
       "      <td>118.53</td>\n",
       "    </tr>\n",
       "    <tr>\n",
       "      <th>2</th>\n",
       "      <td>ID1441360767</td>\n",
       "      <td>1.0</td>\n",
       "      <td>0.0</td>\n",
       "      <td>19.791</td>\n",
       "      <td>17.0</td>\n",
       "      <td>14.0</td>\n",
       "      <td>-37.669235</td>\n",
       "      <td>145.376985</td>\n",
       "      <td>-36.590333</td>\n",
       "      <td>146.799253</td>\n",
       "      <td>174.228</td>\n",
       "      <td>2018-01-07</td>\n",
       "      <td>05:19:42</td>\n",
       "      <td>170.60</td>\n",
       "      <td>8:10:17</td>\n",
       "      <td>122.46</td>\n",
       "    </tr>\n",
       "    <tr>\n",
       "      <th>3</th>\n",
       "      <td>ID1317083068</td>\n",
       "      <td>2.0</td>\n",
       "      <td>0.0</td>\n",
       "      <td>30.081</td>\n",
       "      <td>20.0</td>\n",
       "      <td>34.0</td>\n",
       "      <td>-37.330879</td>\n",
       "      <td>147.861076</td>\n",
       "      <td>-38.999889</td>\n",
       "      <td>147.033935</td>\n",
       "      <td>199.392</td>\n",
       "      <td>2018-02-17</td>\n",
       "      <td>12:28:01</td>\n",
       "      <td>183.21</td>\n",
       "      <td>15:31:13</td>\n",
       "      <td>142.82</td>\n",
       "    </tr>\n",
       "    <tr>\n",
       "      <th>4</th>\n",
       "      <td>ID1518375527</td>\n",
       "      <td>2.0</td>\n",
       "      <td>0.0</td>\n",
       "      <td>36.774</td>\n",
       "      <td>19.0</td>\n",
       "      <td>3.0</td>\n",
       "      <td>-38.160777</td>\n",
       "      <td>146.525992</td>\n",
       "      <td>-38.341371</td>\n",
       "      <td>146.071694</td>\n",
       "      <td>44.512</td>\n",
       "      <td>2018-04-20</td>\n",
       "      <td>22:53:10</td>\n",
       "      <td>46.55</td>\n",
       "      <td>23:39:42</td>\n",
       "      <td>148.56</td>\n",
       "    </tr>\n",
       "    <tr>\n",
       "      <th>5</th>\n",
       "      <td>ID1241165476</td>\n",
       "      <td>1.0</td>\n",
       "      <td>0.0</td>\n",
       "      <td>34.487</td>\n",
       "      <td>9.0</td>\n",
       "      <td>25.0</td>\n",
       "      <td>-37.021384</td>\n",
       "      <td>146.308215</td>\n",
       "      <td>-38.418917</td>\n",
       "      <td>143.043409</td>\n",
       "      <td>326.839</td>\n",
       "      <td>2018-04-23</td>\n",
       "      <td>16:20:12</td>\n",
       "      <td>313.68</td>\n",
       "      <td>21:33:52</td>\n",
       "      <td>112.89</td>\n",
       "    </tr>\n",
       "    <tr>\n",
       "      <th>6</th>\n",
       "      <td>ID1144862895</td>\n",
       "      <td>1.0</td>\n",
       "      <td>0.0</td>\n",
       "      <td>13.313</td>\n",
       "      <td>12.0</td>\n",
       "      <td>36.0</td>\n",
       "      <td>-37.361811</td>\n",
       "      <td>143.271771</td>\n",
       "      <td>-38.661605</td>\n",
       "      <td>143.500321</td>\n",
       "      <td>146.071</td>\n",
       "      <td>2018-06-28</td>\n",
       "      <td>20:59:05</td>\n",
       "      <td>144.21</td>\n",
       "      <td>23:23:17</td>\n",
       "      <td>99.87</td>\n",
       "    </tr>\n",
       "    <tr>\n",
       "      <th>7</th>\n",
       "      <td>ID1378562504</td>\n",
       "      <td>1.0</td>\n",
       "      <td>0.0</td>\n",
       "      <td>15.087</td>\n",
       "      <td>29.0</td>\n",
       "      <td>12.0</td>\n",
       "      <td>-38.931577</td>\n",
       "      <td>145.817021</td>\n",
       "      <td>-37.329664</td>\n",
       "      <td>143.517720</td>\n",
       "      <td>268.930</td>\n",
       "      <td>2018-04-07</td>\n",
       "      <td>07:43:09</td>\n",
       "      <td>259.39</td>\n",
       "      <td>12:02:32</td>\n",
       "      <td>92.64</td>\n",
       "    </tr>\n",
       "    <tr>\n",
       "      <th>8</th>\n",
       "      <td>ID5476416063</td>\n",
       "      <td>2.0</td>\n",
       "      <td>1.0</td>\n",
       "      <td>43.276</td>\n",
       "      <td>28.0</td>\n",
       "      <td>17.0</td>\n",
       "      <td>-36.687470</td>\n",
       "      <td>147.398612</td>\n",
       "      <td>-37.654619</td>\n",
       "      <td>145.659249</td>\n",
       "      <td>188.128</td>\n",
       "      <td>2018-06-16</td>\n",
       "      <td>09:47:06</td>\n",
       "      <td>173.27</td>\n",
       "      <td>12:40:22</td>\n",
       "      <td>159.81</td>\n",
       "    </tr>\n",
       "    <tr>\n",
       "      <th>9</th>\n",
       "      <td>ID5485087813</td>\n",
       "      <td>1.0</td>\n",
       "      <td>1.0</td>\n",
       "      <td>25.897</td>\n",
       "      <td>42.0</td>\n",
       "      <td>45.0</td>\n",
       "      <td>-37.721776</td>\n",
       "      <td>146.650155</td>\n",
       "      <td>-37.042134</td>\n",
       "      <td>142.939344</td>\n",
       "      <td>336.814</td>\n",
       "      <td>2018-03-07</td>\n",
       "      <td>16:04:00</td>\n",
       "      <td>323.03</td>\n",
       "      <td>21:27:01</td>\n",
       "      <td>153.79</td>\n",
       "    </tr>\n",
       "  </tbody>\n",
       "</table>\n",
       "</div>"
      ],
      "text/plain": [
       "             Id  Drone Type  Post Type  Package Weight  Origin Region  \\\n",
       "0  ID1407767162         1.0        0.0           5.652           28.0   \n",
       "1  ID1986741281         1.0        0.0          42.025           35.0   \n",
       "2  ID1441360767         1.0        0.0          19.791           17.0   \n",
       "3  ID1317083068         2.0        0.0          30.081           20.0   \n",
       "4  ID1518375527         2.0        0.0          36.774           19.0   \n",
       "5  ID1241165476         1.0        0.0          34.487            9.0   \n",
       "6  ID1144862895         1.0        0.0          13.313           12.0   \n",
       "7  ID1378562504         1.0        0.0          15.087           29.0   \n",
       "8  ID5476416063         2.0        1.0          43.276           28.0   \n",
       "9  ID5485087813         1.0        1.0          25.897           42.0   \n",
       "\n",
       "   Destination Region  Origin Latitude  Origin Longitude  \\\n",
       "0                35.0       -36.675098        147.614225   \n",
       "1                41.0       -38.665431        146.202615   \n",
       "2                14.0       -37.669235        145.376985   \n",
       "3                34.0       -37.330879        147.861076   \n",
       "4                 3.0       -38.160777        146.525992   \n",
       "5                25.0       -37.021384        146.308215   \n",
       "6                36.0       -37.361811        143.271771   \n",
       "7                12.0       -38.931577        145.817021   \n",
       "8                17.0       -36.687470        147.398612   \n",
       "9                45.0       -37.721776        146.650155   \n",
       "\n",
       "   Destination Latitude  Destination Longitude  Journey Distance  \\\n",
       "0            -38.712987             146.159349           260.537   \n",
       "1            -37.859710             147.666017           156.216   \n",
       "2            -36.590333             146.799253           174.228   \n",
       "3            -38.999889             147.033935           199.392   \n",
       "4            -38.341371             146.071694            44.512   \n",
       "5            -38.418917             143.043409           326.839   \n",
       "6            -38.661605             143.500321           146.071   \n",
       "7            -37.329664             143.517720           268.930   \n",
       "8            -37.654619             145.659249           188.128   \n",
       "9            -37.042134             142.939344           336.814   \n",
       "\n",
       "  Departure Date Departure Time  Travel Time Delivery Time  Delivery Fare  \n",
       "0     2018-03-25       08:59:20       251.52      13:10:51          99.62  \n",
       "1     2018-03-19       00:17:49       153.72       2:51:32         118.53  \n",
       "2     2018-01-07       05:19:42       170.60       8:10:17         122.46  \n",
       "3     2018-02-17       12:28:01       183.21      15:31:13         142.82  \n",
       "4     2018-04-20       22:53:10        46.55      23:39:42         148.56  \n",
       "5     2018-04-23       16:20:12       313.68      21:33:52         112.89  \n",
       "6     2018-06-28       20:59:05       144.21      23:23:17          99.87  \n",
       "7     2018-04-07       07:43:09       259.39      12:02:32          92.64  \n",
       "8     2018-06-16       09:47:06       173.27      12:40:22         159.81  \n",
       "9     2018-03-07       16:04:00       323.03      21:27:01         153.79  "
      ]
     },
     "execution_count": 6,
     "metadata": {},
     "output_type": "execute_result"
    }
   ],
   "source": [
    "df.head(10)"
   ]
  },
  {
   "cell_type": "markdown",
   "metadata": {},
   "source": [
    "Now lets have a look at the columns in the data and what are their datatype"
   ]
  },
  {
   "cell_type": "code",
   "execution_count": 7,
   "metadata": {},
   "outputs": [
    {
     "name": "stdout",
     "output_type": "stream",
     "text": [
      "<class 'pandas.core.frame.DataFrame'>\n",
      "RangeIndex: 38064 entries, 0 to 38063\n",
      "Data columns (total 16 columns):\n",
      "Id                       38043 non-null object\n",
      "Drone Type               38054 non-null float64\n",
      "Post Type                38044 non-null float64\n",
      "Package Weight           38064 non-null float64\n",
      "Origin Region            38054 non-null float64\n",
      "Destination Region       38054 non-null float64\n",
      "Origin Latitude          38064 non-null float64\n",
      "Origin Longitude         38064 non-null float64\n",
      "Destination Latitude     38064 non-null float64\n",
      "Destination Longitude    38064 non-null float64\n",
      "Journey Distance         38064 non-null float64\n",
      "Departure Date           38064 non-null object\n",
      "Departure Time           38064 non-null object\n",
      "Travel Time              38024 non-null float64\n",
      "Delivery Time            38064 non-null object\n",
      "Delivery Fare            38035 non-null float64\n",
      "dtypes: float64(12), object(4)\n",
      "memory usage: 4.6+ MB\n"
     ]
    }
   ],
   "source": [
    "df.info()"
   ]
  },
  {
   "cell_type": "markdown",
   "metadata": {},
   "source": [
    "There might be some null values in the data, lets quickly find out which variable carry how many nulls"
   ]
  },
  {
   "cell_type": "code",
   "execution_count": 8,
   "metadata": {},
   "outputs": [
    {
     "data": {
      "text/plain": [
       "Id                       21\n",
       "Drone Type               10\n",
       "Post Type                20\n",
       "Package Weight            0\n",
       "Origin Region            10\n",
       "Destination Region       10\n",
       "Origin Latitude           0\n",
       "Origin Longitude          0\n",
       "Destination Latitude      0\n",
       "Destination Longitude     0\n",
       "Journey Distance          0\n",
       "Departure Date            0\n",
       "Departure Time            0\n",
       "Travel Time              40\n",
       "Delivery Time             0\n",
       "Delivery Fare            29\n",
       "dtype: int64"
      ]
     },
     "execution_count": 8,
     "metadata": {},
     "output_type": "execute_result"
    }
   ],
   "source": [
    "# Count sum of missing values in each column\n",
    "df.isnull().sum()"
   ]
  },
  {
   "cell_type": "markdown",
   "metadata": {},
   "source": [
    "### There are few nulls in the data. We need to remove/impute them"
   ]
  },
  {
   "cell_type": "markdown",
   "metadata": {},
   "source": [
    "Initially, we'll focus on\n",
    "1. ID: These are supposed to uniquely present for all the rows. If missing, then we'll generate and insert IDs. I believe values of IDs are not used for calculation but just for refencing a row. Therefore, we'll generate unique IDs where missing.\n",
    "\n",
    "2. Drone Type: The type of drone affect the further data. Therefore unless we don't know perfect formula to figure out the drone type from rest of the data, I believe, we remove the rows with missing values from data. Moreover, only 10 are missing so it would not make much difference in the overall data.\n",
    "\n",
    "3. Post Type: The type of post affect the further data. Therefore unless we don't know perfect formula to figure out the post type from rest of the data, I believe, we remove the rows with missing values from data. Moreover, only 20 are missing so it would not make much difference in the overall data."
   ]
  },
  {
   "cell_type": "code",
   "execution_count": 9,
   "metadata": {},
   "outputs": [
    {
     "data": {
      "text/html": [
       "<div>\n",
       "<style scoped>\n",
       "    .dataframe tbody tr th:only-of-type {\n",
       "        vertical-align: middle;\n",
       "    }\n",
       "\n",
       "    .dataframe tbody tr th {\n",
       "        vertical-align: top;\n",
       "    }\n",
       "\n",
       "    .dataframe thead th {\n",
       "        text-align: right;\n",
       "    }\n",
       "</style>\n",
       "<table border=\"1\" class=\"dataframe\">\n",
       "  <thead>\n",
       "    <tr style=\"text-align: right;\">\n",
       "      <th></th>\n",
       "      <th>Id</th>\n",
       "      <th>Drone Type</th>\n",
       "      <th>Post Type</th>\n",
       "      <th>Package Weight</th>\n",
       "      <th>Origin Region</th>\n",
       "      <th>Destination Region</th>\n",
       "      <th>Origin Latitude</th>\n",
       "      <th>Origin Longitude</th>\n",
       "      <th>Destination Latitude</th>\n",
       "      <th>Destination Longitude</th>\n",
       "      <th>Journey Distance</th>\n",
       "      <th>Departure Date</th>\n",
       "      <th>Departure Time</th>\n",
       "      <th>Travel Time</th>\n",
       "      <th>Delivery Time</th>\n",
       "      <th>Delivery Fare</th>\n",
       "    </tr>\n",
       "  </thead>\n",
       "  <tbody>\n",
       "    <tr>\n",
       "      <th>0</th>\n",
       "      <td>ID1407767162</td>\n",
       "      <td>1.0</td>\n",
       "      <td>0.0</td>\n",
       "      <td>5.652</td>\n",
       "      <td>28.0</td>\n",
       "      <td>35.0</td>\n",
       "      <td>-36.675098</td>\n",
       "      <td>147.614225</td>\n",
       "      <td>-38.712987</td>\n",
       "      <td>146.159349</td>\n",
       "      <td>260.537</td>\n",
       "      <td>2018-03-25</td>\n",
       "      <td>08:59:20</td>\n",
       "      <td>251.52</td>\n",
       "      <td>13:10:51</td>\n",
       "      <td>99.62</td>\n",
       "    </tr>\n",
       "    <tr>\n",
       "      <th>1</th>\n",
       "      <td>ID1986741281</td>\n",
       "      <td>1.0</td>\n",
       "      <td>0.0</td>\n",
       "      <td>42.025</td>\n",
       "      <td>35.0</td>\n",
       "      <td>41.0</td>\n",
       "      <td>-38.665431</td>\n",
       "      <td>146.202615</td>\n",
       "      <td>-37.859710</td>\n",
       "      <td>147.666017</td>\n",
       "      <td>156.216</td>\n",
       "      <td>2018-03-19</td>\n",
       "      <td>00:17:49</td>\n",
       "      <td>153.72</td>\n",
       "      <td>2:51:32</td>\n",
       "      <td>118.53</td>\n",
       "    </tr>\n",
       "    <tr>\n",
       "      <th>2</th>\n",
       "      <td>ID1441360767</td>\n",
       "      <td>1.0</td>\n",
       "      <td>0.0</td>\n",
       "      <td>19.791</td>\n",
       "      <td>17.0</td>\n",
       "      <td>14.0</td>\n",
       "      <td>-37.669235</td>\n",
       "      <td>145.376985</td>\n",
       "      <td>-36.590333</td>\n",
       "      <td>146.799253</td>\n",
       "      <td>174.228</td>\n",
       "      <td>2018-01-07</td>\n",
       "      <td>05:19:42</td>\n",
       "      <td>170.60</td>\n",
       "      <td>8:10:17</td>\n",
       "      <td>122.46</td>\n",
       "    </tr>\n",
       "    <tr>\n",
       "      <th>3</th>\n",
       "      <td>ID1317083068</td>\n",
       "      <td>2.0</td>\n",
       "      <td>0.0</td>\n",
       "      <td>30.081</td>\n",
       "      <td>20.0</td>\n",
       "      <td>34.0</td>\n",
       "      <td>-37.330879</td>\n",
       "      <td>147.861076</td>\n",
       "      <td>-38.999889</td>\n",
       "      <td>147.033935</td>\n",
       "      <td>199.392</td>\n",
       "      <td>2018-02-17</td>\n",
       "      <td>12:28:01</td>\n",
       "      <td>183.21</td>\n",
       "      <td>15:31:13</td>\n",
       "      <td>142.82</td>\n",
       "    </tr>\n",
       "    <tr>\n",
       "      <th>4</th>\n",
       "      <td>ID1518375527</td>\n",
       "      <td>2.0</td>\n",
       "      <td>0.0</td>\n",
       "      <td>36.774</td>\n",
       "      <td>19.0</td>\n",
       "      <td>3.0</td>\n",
       "      <td>-38.160777</td>\n",
       "      <td>146.525992</td>\n",
       "      <td>-38.341371</td>\n",
       "      <td>146.071694</td>\n",
       "      <td>44.512</td>\n",
       "      <td>2018-04-20</td>\n",
       "      <td>22:53:10</td>\n",
       "      <td>46.55</td>\n",
       "      <td>23:39:42</td>\n",
       "      <td>148.56</td>\n",
       "    </tr>\n",
       "  </tbody>\n",
       "</table>\n",
       "</div>"
      ],
      "text/plain": [
       "             Id  Drone Type  Post Type  Package Weight  Origin Region  \\\n",
       "0  ID1407767162         1.0        0.0           5.652           28.0   \n",
       "1  ID1986741281         1.0        0.0          42.025           35.0   \n",
       "2  ID1441360767         1.0        0.0          19.791           17.0   \n",
       "3  ID1317083068         2.0        0.0          30.081           20.0   \n",
       "4  ID1518375527         2.0        0.0          36.774           19.0   \n",
       "\n",
       "   Destination Region  Origin Latitude  Origin Longitude  \\\n",
       "0                35.0       -36.675098        147.614225   \n",
       "1                41.0       -38.665431        146.202615   \n",
       "2                14.0       -37.669235        145.376985   \n",
       "3                34.0       -37.330879        147.861076   \n",
       "4                 3.0       -38.160777        146.525992   \n",
       "\n",
       "   Destination Latitude  Destination Longitude  Journey Distance  \\\n",
       "0            -38.712987             146.159349           260.537   \n",
       "1            -37.859710             147.666017           156.216   \n",
       "2            -36.590333             146.799253           174.228   \n",
       "3            -38.999889             147.033935           199.392   \n",
       "4            -38.341371             146.071694            44.512   \n",
       "\n",
       "  Departure Date Departure Time  Travel Time Delivery Time  Delivery Fare  \n",
       "0     2018-03-25       08:59:20       251.52      13:10:51          99.62  \n",
       "1     2018-03-19       00:17:49       153.72       2:51:32         118.53  \n",
       "2     2018-01-07       05:19:42       170.60       8:10:17         122.46  \n",
       "3     2018-02-17       12:28:01       183.21      15:31:13         142.82  \n",
       "4     2018-04-20       22:53:10        46.55      23:39:42         148.56  "
      ]
     },
     "execution_count": 9,
     "metadata": {},
     "output_type": "execute_result"
    }
   ],
   "source": [
    "# Delete rows with nulls in Id, Drone Type, Post Type\n",
    "df = df.dropna(subset=['Id', 'Drone Type', 'Post Type'])\n",
    "\n",
    "# Drop duplicates IDs\n",
    "df.drop_duplicates(subset=['Id'], keep=False)\n",
    "\n",
    "df.head()"
   ]
  },
  {
   "cell_type": "markdown",
   "metadata": {},
   "source": [
    "We reset the index of the dataframe for easy reference. The indexes are not in series because we deleted few rows"
   ]
  },
  {
   "cell_type": "code",
   "execution_count": 10,
   "metadata": {},
   "outputs": [],
   "source": [
    "df = df.reset_index(drop=True) # Drop the index column from the dataframe"
   ]
  },
  {
   "cell_type": "markdown",
   "metadata": {},
   "source": [
    "There are few NaN in \"Origin Region\" and \"Destination Region\".\n",
    "However, we have their data for its corresponding latitude and logitude from other rows with same latitude and logitude.\n",
    "We believe that a two same region cannot have different coordinates(latitude and logitude) and vice versa. And so is the situation in the data.\n",
    "\n",
    "Few same coordinates have region for some rows and missing for rest. We'll impute missing ones with present ones."
   ]
  },
  {
   "cell_type": "code",
   "execution_count": 11,
   "metadata": {},
   "outputs": [],
   "source": [
    "# First create a dummy dictionary and copy latitude:region into it for both origin and destination\n",
    "dict1 = dict()\n",
    "dict2 = dict()\n",
    "\n",
    "# We'll use below two dictionaries further\n",
    "origin_dict = dict()\n",
    "dest_dict = dict()\n",
    "\n",
    "# Find the latitude for both origin and destination region. And store retrieved latitude:region in dictionary\n",
    "for index, row in df.iterrows():\n",
    "    if not np.isnan(df.loc[df.index[index], 'Origin Region']):\n",
    "        reg = df.loc[df.index[index], 'Origin Region']\n",
    "        loc = df.loc[df.index[index], 'Origin Latitude']    \n",
    "        dict1[loc] = reg\n",
    "    \n",
    "    if not np.isnan(df.loc[df.index[index], 'Destination Region']):\n",
    "        reg = df.loc[df.index[index], 'Destination Region']\n",
    "        loc = df.loc[df.index[index], 'Destination Latitude']\n",
    "        dict2[loc] = reg\n",
    "\n",
    "# Copy the dictionary data to another dictionary except NaNs\n",
    "origin_dict = dict(x for x in dict1.items() if all(x))\n",
    "dest_dict = dict(x for x in dict2.items() if all(x))"
   ]
  },
  {
   "cell_type": "markdown",
   "metadata": {},
   "source": [
    "So now we have a dictionary for latitude with its corresponding region.\n",
    "We'll find latitude from df where region is missing and impute it with data from dictionary.\n",
    "\n",
    "This technique is applied on both origin and destination simultaneously.\n",
    "\n",
    "Please note that the below block throw an error if once imputation is done and we're again trying to impute it. There will be no error tbough on first time imputation. If you want try code again, start from beginning."
   ]
  },
  {
   "cell_type": "code",
   "execution_count": 12,
   "metadata": {},
   "outputs": [],
   "source": [
    "# For loop will find latitude where region is missing and impute using region from dictionary\n",
    "for index, row in df.iterrows():\n",
    "    if np.isnan(df.loc[df.index[index], 'Origin Region']):\n",
    "        df.loc[df.index[index], 'Origin Region'] = origin_dict[df.loc[df.index[index], 'Origin Latitude']]\n",
    "    \n",
    "    if np.isnan(df.loc[df.index[index], 'Destination Region']):\n",
    "        if (df.loc[df.index[index], 'Destination Latitude']) in dest_dict:\n",
    "            df.loc[df.index[index], 'Destination Region'] = dest_dict[df.loc[df.index[index], 'Destination Latitude']]\n",
    "#         else:\n",
    "#             df.drop(index, inplace=True)\n",
    "        \n",
    "\n",
    "# If there is still any data where we don't know the region because its latitude is unique in df, then we delete that row.\n",
    "# In our case, there is only one such row. So therefore, it doesn't make much difference in our study\n",
    "df = df[pd.notnull(df['Destination Region'])]"
   ]
  },
  {
   "cell_type": "markdown",
   "metadata": {},
   "source": [
    "So far, we've handled missing values in few columns. We will continue this ahead for further columns too. \n",
    "\n",
    "There is numerical data few of the further columns. So lets statisticaly check the data"
   ]
  },
  {
   "cell_type": "code",
   "execution_count": 13,
   "metadata": {},
   "outputs": [
    {
     "data": {
      "text/html": [
       "<div>\n",
       "<style scoped>\n",
       "    .dataframe tbody tr th:only-of-type {\n",
       "        vertical-align: middle;\n",
       "    }\n",
       "\n",
       "    .dataframe tbody tr th {\n",
       "        vertical-align: top;\n",
       "    }\n",
       "\n",
       "    .dataframe thead th {\n",
       "        text-align: right;\n",
       "    }\n",
       "</style>\n",
       "<table border=\"1\" class=\"dataframe\">\n",
       "  <thead>\n",
       "    <tr style=\"text-align: right;\">\n",
       "      <th></th>\n",
       "      <th>Drone Type</th>\n",
       "      <th>Post Type</th>\n",
       "      <th>Package Weight</th>\n",
       "      <th>Origin Region</th>\n",
       "      <th>Destination Region</th>\n",
       "      <th>Origin Latitude</th>\n",
       "      <th>Origin Longitude</th>\n",
       "      <th>Destination Latitude</th>\n",
       "      <th>Destination Longitude</th>\n",
       "      <th>Journey Distance</th>\n",
       "      <th>Travel Time</th>\n",
       "      <th>Delivery Fare</th>\n",
       "    </tr>\n",
       "  </thead>\n",
       "  <tbody>\n",
       "    <tr>\n",
       "      <th>count</th>\n",
       "      <td>38012.000000</td>\n",
       "      <td>38012.000000</td>\n",
       "      <td>38012.000000</td>\n",
       "      <td>38012.000000</td>\n",
       "      <td>38012.000000</td>\n",
       "      <td>38012.000000</td>\n",
       "      <td>38012.000000</td>\n",
       "      <td>38012.000000</td>\n",
       "      <td>38012.000000</td>\n",
       "      <td>38012.000000</td>\n",
       "      <td>37972.000000</td>\n",
       "      <td>37983.000000</td>\n",
       "    </tr>\n",
       "    <tr>\n",
       "      <th>mean</th>\n",
       "      <td>1.701936</td>\n",
       "      <td>0.299958</td>\n",
       "      <td>28.706736</td>\n",
       "      <td>23.001684</td>\n",
       "      <td>22.988635</td>\n",
       "      <td>-37.770707</td>\n",
       "      <td>145.375496</td>\n",
       "      <td>-37.775432</td>\n",
       "      <td>145.369600</td>\n",
       "      <td>216.461196</td>\n",
       "      <td>202.585592</td>\n",
       "      <td>151.706761</td>\n",
       "    </tr>\n",
       "    <tr>\n",
       "      <th>std</th>\n",
       "      <td>0.780018</td>\n",
       "      <td>0.458245</td>\n",
       "      <td>13.837456</td>\n",
       "      <td>13.005547</td>\n",
       "      <td>13.055024</td>\n",
       "      <td>1.895143</td>\n",
       "      <td>6.894831</td>\n",
       "      <td>1.901898</td>\n",
       "      <td>6.886140</td>\n",
       "      <td>113.486918</td>\n",
       "      <td>102.769805</td>\n",
       "      <td>65.159242</td>\n",
       "    </tr>\n",
       "    <tr>\n",
       "      <th>min</th>\n",
       "      <td>1.000000</td>\n",
       "      <td>0.000000</td>\n",
       "      <td>5.000000</td>\n",
       "      <td>1.000000</td>\n",
       "      <td>1.000000</td>\n",
       "      <td>-39.006749</td>\n",
       "      <td>-148.316221</td>\n",
       "      <td>-39.006749</td>\n",
       "      <td>-147.226104</td>\n",
       "      <td>0.343000</td>\n",
       "      <td>7.610000</td>\n",
       "      <td>63.570000</td>\n",
       "    </tr>\n",
       "    <tr>\n",
       "      <th>25%</th>\n",
       "      <td>1.000000</td>\n",
       "      <td>0.000000</td>\n",
       "      <td>16.799000</td>\n",
       "      <td>12.000000</td>\n",
       "      <td>12.000000</td>\n",
       "      <td>-38.503663</td>\n",
       "      <td>143.995736</td>\n",
       "      <td>-38.507455</td>\n",
       "      <td>143.974322</td>\n",
       "      <td>129.133750</td>\n",
       "      <td>123.560000</td>\n",
       "      <td>118.540000</td>\n",
       "    </tr>\n",
       "    <tr>\n",
       "      <th>50%</th>\n",
       "      <td>2.000000</td>\n",
       "      <td>0.000000</td>\n",
       "      <td>28.547500</td>\n",
       "      <td>23.000000</td>\n",
       "      <td>23.000000</td>\n",
       "      <td>-37.782963</td>\n",
       "      <td>145.504949</td>\n",
       "      <td>-37.797137</td>\n",
       "      <td>145.497746</td>\n",
       "      <td>203.834000</td>\n",
       "      <td>190.785000</td>\n",
       "      <td>144.970000</td>\n",
       "    </tr>\n",
       "    <tr>\n",
       "      <th>75%</th>\n",
       "      <td>2.000000</td>\n",
       "      <td>1.000000</td>\n",
       "      <td>40.470250</td>\n",
       "      <td>34.000000</td>\n",
       "      <td>34.000000</td>\n",
       "      <td>-37.156218</td>\n",
       "      <td>147.037066</td>\n",
       "      <td>-37.162114</td>\n",
       "      <td>147.041681</td>\n",
       "      <td>290.539750</td>\n",
       "      <td>269.690000</td>\n",
       "      <td>173.745000</td>\n",
       "    </tr>\n",
       "    <tr>\n",
       "      <th>max</th>\n",
       "      <td>3.000000</td>\n",
       "      <td>1.000000</td>\n",
       "      <td>61.989000</td>\n",
       "      <td>45.000000</td>\n",
       "      <td>45.000000</td>\n",
       "      <td>38.990314</td>\n",
       "      <td>148.450977</td>\n",
       "      <td>38.945308</td>\n",
       "      <td>148.450977</td>\n",
       "      <td>553.612000</td>\n",
       "      <td>526.280000</td>\n",
       "      <td>1314.720000</td>\n",
       "    </tr>\n",
       "  </tbody>\n",
       "</table>\n",
       "</div>"
      ],
      "text/plain": [
       "         Drone Type     Post Type  Package Weight  Origin Region  \\\n",
       "count  38012.000000  38012.000000    38012.000000   38012.000000   \n",
       "mean       1.701936      0.299958       28.706736      23.001684   \n",
       "std        0.780018      0.458245       13.837456      13.005547   \n",
       "min        1.000000      0.000000        5.000000       1.000000   \n",
       "25%        1.000000      0.000000       16.799000      12.000000   \n",
       "50%        2.000000      0.000000       28.547500      23.000000   \n",
       "75%        2.000000      1.000000       40.470250      34.000000   \n",
       "max        3.000000      1.000000       61.989000      45.000000   \n",
       "\n",
       "       Destination Region  Origin Latitude  Origin Longitude  \\\n",
       "count        38012.000000     38012.000000      38012.000000   \n",
       "mean            22.988635       -37.770707        145.375496   \n",
       "std             13.055024         1.895143          6.894831   \n",
       "min              1.000000       -39.006749       -148.316221   \n",
       "25%             12.000000       -38.503663        143.995736   \n",
       "50%             23.000000       -37.782963        145.504949   \n",
       "75%             34.000000       -37.156218        147.037066   \n",
       "max             45.000000        38.990314        148.450977   \n",
       "\n",
       "       Destination Latitude  Destination Longitude  Journey Distance  \\\n",
       "count          38012.000000           38012.000000      38012.000000   \n",
       "mean             -37.775432             145.369600        216.461196   \n",
       "std                1.901898               6.886140        113.486918   \n",
       "min              -39.006749            -147.226104          0.343000   \n",
       "25%              -38.507455             143.974322        129.133750   \n",
       "50%              -37.797137             145.497746        203.834000   \n",
       "75%              -37.162114             147.041681        290.539750   \n",
       "max               38.945308             148.450977        553.612000   \n",
       "\n",
       "        Travel Time  Delivery Fare  \n",
       "count  37972.000000   37983.000000  \n",
       "mean     202.585592     151.706761  \n",
       "std      102.769805      65.159242  \n",
       "min        7.610000      63.570000  \n",
       "25%      123.560000     118.540000  \n",
       "50%      190.785000     144.970000  \n",
       "75%      269.690000     173.745000  \n",
       "max      526.280000    1314.720000  "
      ]
     },
     "execution_count": 13,
     "metadata": {},
     "output_type": "execute_result"
    }
   ],
   "source": [
    "# Quick statistical overview of data\n",
    "df.describe()"
   ]
  },
  {
   "cell_type": "markdown",
   "metadata": {},
   "source": [
    "#### There are symantic anamolies in data"
   ]
  },
  {
   "cell_type": "markdown",
   "metadata": {},
   "source": [
    "In above decription table, the mean for 'Origin Latitude' is around -37 but we have maximum value 38.xxxxxx. Similarly, for destination latitude column.\n",
    "\n",
    "I believe that there is an error with negative symbol (\"-\") in few rows. That is, \"-\" is missing in certain rows where it should be whereas, its present where it shouldn't be. We'll update the data"
   ]
  },
  {
   "cell_type": "code",
   "execution_count": 14,
   "metadata": {},
   "outputs": [],
   "source": [
    "# Update values. As per above table, few values are negative where they are supposed to positive and vice-versa.\n",
    "df.loc[df['Origin Latitude'] > 0, 'Origin Latitude'] *= -1\n",
    "df.loc[df['Origin Longitude'] < 0, 'Origin Longitude'] *= -1\n",
    "\n",
    "df.loc[df['Destination Latitude'] > 0, 'Destination Latitude'] *= -1\n",
    "df.loc[df['Destination Longitude'] < 0, 'Destination Longitude'] *= -1"
   ]
  },
  {
   "cell_type": "markdown",
   "metadata": {},
   "source": [
    "#### There are sytactical anamolies too in data"
   ]
  },
  {
   "cell_type": "markdown",
   "metadata": {},
   "source": [
    "While going through the provided Excel data, I found inconsistency in date format in column \"Departure date\". Lets see all the unique dates in that column:"
   ]
  },
  {
   "cell_type": "code",
   "execution_count": 15,
   "metadata": {},
   "outputs": [
    {
     "data": {
      "text/plain": [
       "array(['2018-03-25', '2018-03-19', '2018-01-07', '2018-02-17',\n",
       "       '2018-04-20', '2018-04-23', '2018-06-28', '2018-04-07',\n",
       "       '2018-06-16', '2018-03-07', '2018-05-10', '2018-02-09',\n",
       "       '2018-07-16', '2018-06-09', '2018-07-04', '2018-03-10',\n",
       "       '2018-05-22', '2018-05-20', '2018-01-26', '2018-06-07',\n",
       "       '2018-06-20', '2018-05-23', '2018-05-04', '2018-05-28',\n",
       "       '2018-06-27', '2018-01-23', '2018-05-26', '2018-02-03',\n",
       "       '2018-07-03', '2018-04-05', '2018-05-08', '2018-04-28',\n",
       "       '2018-03-16', '2018-05-15', '2018-01-20', '2018-03-28',\n",
       "       '2018-02-22', '2018-04-17', '2018-02-27', '2018-07-11',\n",
       "       '2018-07-23', '2018-05-02', '2018-02-16', '2018-04-26',\n",
       "       '2018-01-08', '2018-07-09', '2018-01-02', '2018-04-04',\n",
       "       '2018-07-17', '2018-06-14', '2018-02-19', '2018-07-27',\n",
       "       '2018-01-18', '2018-07-05', '2018-05-12', '2018-03-27',\n",
       "       '2018-02-10', '2018-01-21', '2018-02-01', '2018-06-15',\n",
       "       '2018-07-18', '2018-05-17', '2018-06-01', '2018-02-07',\n",
       "       '2018-03-18', '2018-07-19', '2018-06-19', '2018-07-07',\n",
       "       '2018-03-20', '2018-02-15', '2018-02-02', '2018-05-13',\n",
       "       '2018-07-12', '2018-06-17', '2018-05-01', '2018-04-06',\n",
       "       '2018-01-11', '2018-04-09', '2018-03-14', '2018-01-09',\n",
       "       '2018-07-15', '2018-07-22', '2018-01-19', '2018-06-05',\n",
       "       '2018-04-03', '2018-04-22', '2018-04-11', '2018-02-24',\n",
       "       '2018-05-18', '2018-03-21', '2018-03-12', '2018-01-22',\n",
       "       '2018-04-08', '2018-01-27', '2018-01-25', '2018-04-25',\n",
       "       '2018-06-06', '2018-01-28', '2018-02-25', '2018-03-06',\n",
       "       '2018-07-06', '2018-04-01', '2018-06-02', '2018-04-10',\n",
       "       '2018-05-16', '2018-05-09', '2018-05-05', '2018-02-13',\n",
       "       '2018-03-08', '2018-07-25', '2018-03-24', '2018-04-13',\n",
       "       '2018-07-02', '2018-01-24', '2018-06-24', '2018-03-02',\n",
       "       '2018-01-17', '2018-06-10', '2018-03-26', '2018-03-05',\n",
       "       '2018-05-19', '2018-06-22', '2018-03-17', '2018-04-02',\n",
       "       '2018-05-07', '2018-05-21', '2018-04-19', '2018-04-27',\n",
       "       '2018-04-16', '2018-07-28', '2018-02-11', '2018-03-23',\n",
       "       '2018-06-08', '2018-03-04', '2018-01-06', '2018-07-13',\n",
       "       '2018-05-11', '2018-14-07', '2018-06-03', '2018-03-01',\n",
       "       '2018-04-12', '2018-03-15', '2018-07-01', '2018-02-23',\n",
       "       '2018-01-13', '2018-02-18', '2018-03-11', '2018-04-21',\n",
       "       '2018-07-14', '2018-06-26', '2018-05-06', '2018-02-28',\n",
       "       '2018-07-20', '2018-05-24', '2018-01-12', '2018-02-20',\n",
       "       '2018-06-21', '2018-02-08', '2018-01-10', '2018-01-05',\n",
       "       '2018-07-08', '2018-01-15', '2018-02-26', '2018-07-24',\n",
       "       '2018-01-04', '2018-02-05', '2018-06-13', '2018-04-24',\n",
       "       '2018-04-18', '2018-01-16', '2018-02-12', '2018-05-27',\n",
       "       '2018-07-10', '2018-06-25', '2018-04-14', '2018-06-04',\n",
       "       '2018-03-13', '2018-03-03', '2018-07-21', '2018-07-26',\n",
       "       '2018-02-14', '2018-06-31', '2018-02-04', '2018-06-11',\n",
       "       '2018-02-21', '2018-01-03', '2018-01-14', '2018-03-09',\n",
       "       '2018-05-03', '2018-06-18', '2018-05-25', '2018-04-15',\n",
       "       '2018-02-06', '2018-06-23', '2018-03-22', '2018-06-12',\n",
       "       '2018-01-01', '2018-02-30', '2018-27-01', '2018-05-14',\n",
       "       '2018-15-03', '2018-20-01', '2018-20-05', '2018-04-30',\n",
       "       '2018-06-30', '2018-21-07', '2018-28-03', '2018-28-07',\n",
       "       '2018-13-01', '2018-13-04', '2018-04-31', '2018-19-01',\n",
       "       '2018-18-04', '2018-16-01', '2018-15-04', '2018-24-02',\n",
       "       '2018-26-06', '2018-14-04', '2018-23-06', '2018-25-07',\n",
       "       '2018-28-02', '2018-27-03', '2018-16-07', '2018-17-02',\n",
       "       '2018-20-07', '2018-24-03', '2018-25-05', '2018-22-02',\n",
       "       '2018-26-01', '2018-16-05', '2018-13-05', '2018-24-01',\n",
       "       '2018-22-06', '2018-15-05', '2018-28-01', '2018-25-01',\n",
       "       '2018-25-02', '2018-25-06', '2018-24-07', '2018-18-07',\n",
       "       '2018-27-07', '2018-16-02', '2018-25-04', '2018-21-01',\n",
       "       '2018-18-02', '2018-26-04', '2018-17-07', '2018-20-02',\n",
       "       '2018-18-01', '2018-23-03', '2018-13-02', '2018-19-05',\n",
       "       '2018-26-02', '2018-22-04', '2018-20-03', '2018-28-05',\n",
       "       '2018-14-06', '2018-18-06', '2018-13-07', '2018-24-04',\n",
       "       '2018-22-05', '2018-19-03', '2018-14-02', '2018-21-04',\n",
       "       '2018-27-06', '2018-23-05', '2018-16-04', '2018-27-04',\n",
       "       '2018-17-04', '2018-28-06'], dtype=object)"
      ]
     },
     "execution_count": 15,
     "metadata": {},
     "output_type": "execute_result"
    }
   ],
   "source": [
    "df['Departure Date'].unique()"
   ]
  },
  {
   "cell_type": "markdown",
   "metadata": {},
   "source": [
    "Head of the data has date in format yyyy-mm-dd, whereas the tail of the data has date in yyyy-dd-mm format.\n",
    "\n",
    "We'll update the tail data as per head data format i.e. yyyy-mm-dd. We're just simply using the format that is used maximum than other."
   ]
  },
  {
   "cell_type": "code",
   "execution_count": 16,
   "metadata": {},
   "outputs": [],
   "source": [
    "# First lets pull the Departure Date column data into a list so that further operations become easy\n",
    "departure_date_list = df[\"Departure Date\"].tolist()\n",
    "\n",
    "# We loop through each list element and split the full-date into year, month and date. \n",
    "# If the month value is more than 12, then we swap month with date\n",
    "for index, item in enumerate(departure_date_list):\n",
    "    dater = item.split(\"-\")\n",
    "    check_date = int(dater[1])\n",
    "    \n",
    "#     Check if month > 12, then we swap month and date. Eg.: 2018-13-11 will become 2018-11-13\n",
    "    if check_date>12:\n",
    "        dater[1], dater[2] = dater[2], dater[1]\n",
    "        departure_date_list[index] = dater[0] + \"-\" + dater[1] + \"-\" + dater[2]"
   ]
  },
  {
   "cell_type": "markdown",
   "metadata": {},
   "source": [
    "Replace the updated list over Departure Date column in dataframe and notice the change"
   ]
  },
  {
   "cell_type": "code",
   "execution_count": 17,
   "metadata": {},
   "outputs": [
    {
     "data": {
      "text/plain": [
       "array(['2018-03-25', '2018-03-19', '2018-01-07', '2018-02-17',\n",
       "       '2018-04-20', '2018-04-23', '2018-06-28', '2018-04-07',\n",
       "       '2018-06-16', '2018-03-07', '2018-05-10', '2018-02-09',\n",
       "       '2018-07-16', '2018-06-09', '2018-07-04', '2018-03-10',\n",
       "       '2018-05-22', '2018-05-20', '2018-01-26', '2018-06-07',\n",
       "       '2018-06-20', '2018-05-23', '2018-05-04', '2018-05-28',\n",
       "       '2018-06-27', '2018-01-23', '2018-05-26', '2018-02-03',\n",
       "       '2018-07-03', '2018-04-05', '2018-05-08', '2018-04-28',\n",
       "       '2018-03-16', '2018-05-15', '2018-01-20', '2018-03-28',\n",
       "       '2018-02-22', '2018-04-17', '2018-02-27', '2018-07-11',\n",
       "       '2018-07-23', '2018-05-02', '2018-02-16', '2018-04-26',\n",
       "       '2018-01-08', '2018-07-09', '2018-01-02', '2018-04-04',\n",
       "       '2018-07-17', '2018-06-14', '2018-02-19', '2018-07-27',\n",
       "       '2018-01-18', '2018-07-05', '2018-05-12', '2018-03-27',\n",
       "       '2018-02-10', '2018-01-21', '2018-02-01', '2018-06-15',\n",
       "       '2018-07-18', '2018-05-17', '2018-06-01', '2018-02-07',\n",
       "       '2018-03-18', '2018-07-19', '2018-06-19', '2018-07-07',\n",
       "       '2018-03-20', '2018-02-15', '2018-02-02', '2018-05-13',\n",
       "       '2018-07-12', '2018-06-17', '2018-05-01', '2018-04-06',\n",
       "       '2018-01-11', '2018-04-09', '2018-03-14', '2018-01-09',\n",
       "       '2018-07-15', '2018-07-22', '2018-01-19', '2018-06-05',\n",
       "       '2018-04-03', '2018-04-22', '2018-04-11', '2018-02-24',\n",
       "       '2018-05-18', '2018-03-21', '2018-03-12', '2018-01-22',\n",
       "       '2018-04-08', '2018-01-27', '2018-01-25', '2018-04-25',\n",
       "       '2018-06-06', '2018-01-28', '2018-02-25', '2018-03-06',\n",
       "       '2018-07-06', '2018-04-01', '2018-06-02', '2018-04-10',\n",
       "       '2018-05-16', '2018-05-09', '2018-05-05', '2018-02-13',\n",
       "       '2018-03-08', '2018-07-25', '2018-03-24', '2018-04-13',\n",
       "       '2018-07-02', '2018-01-24', '2018-06-24', '2018-03-02',\n",
       "       '2018-01-17', '2018-06-10', '2018-03-26', '2018-03-05',\n",
       "       '2018-05-19', '2018-06-22', '2018-03-17', '2018-04-02',\n",
       "       '2018-05-07', '2018-05-21', '2018-04-19', '2018-04-27',\n",
       "       '2018-04-16', '2018-07-28', '2018-02-11', '2018-03-23',\n",
       "       '2018-06-08', '2018-03-04', '2018-01-06', '2018-07-13',\n",
       "       '2018-05-11', '2018-07-14', '2018-06-03', '2018-03-01',\n",
       "       '2018-04-12', '2018-03-15', '2018-07-01', '2018-02-23',\n",
       "       '2018-01-13', '2018-02-18', '2018-03-11', '2018-04-21',\n",
       "       '2018-06-26', '2018-05-06', '2018-02-28', '2018-07-20',\n",
       "       '2018-05-24', '2018-01-12', '2018-02-20', '2018-06-21',\n",
       "       '2018-02-08', '2018-01-10', '2018-01-05', '2018-07-08',\n",
       "       '2018-01-15', '2018-02-26', '2018-07-24', '2018-01-04',\n",
       "       '2018-02-05', '2018-06-13', '2018-04-24', '2018-04-18',\n",
       "       '2018-01-16', '2018-02-12', '2018-05-27', '2018-07-10',\n",
       "       '2018-06-25', '2018-04-14', '2018-06-04', '2018-03-13',\n",
       "       '2018-03-03', '2018-07-21', '2018-07-26', '2018-02-14',\n",
       "       '2018-06-31', '2018-02-04', '2018-06-11', '2018-02-21',\n",
       "       '2018-01-03', '2018-01-14', '2018-03-09', '2018-05-03',\n",
       "       '2018-06-18', '2018-05-25', '2018-04-15', '2018-02-06',\n",
       "       '2018-06-23', '2018-03-22', '2018-06-12', '2018-01-01',\n",
       "       '2018-02-30', '2018-05-14', '2018-04-30', '2018-06-30',\n",
       "       '2018-04-31'], dtype=object)"
      ]
     },
     "execution_count": 17,
     "metadata": {},
     "output_type": "execute_result"
    }
   ],
   "source": [
    "df[\"Departure Date\"] = departure_date_list\n",
    "df['Departure Date'].unique()"
   ]
  },
  {
   "cell_type": "markdown",
   "metadata": {},
   "source": [
    "### Verifying/imputing \"Travel Time\" column"
   ]
  },
  {
   "cell_type": "markdown",
   "metadata": {},
   "source": [
    "We'll verify the data in column \"Travel Time\" by using the formula:\n",
    "\n",
    "Travel Time = 10 + ('Journey Distance' - mean('Journey Distance' / 'Travel Time') / 12) / 'speed'\n",
    "\n",
    "We calculate as:\n",
    "\n",
    "speed = 'Journey Distance' / 'Travel Time'\n",
    "\n",
    "\n",
    "The steps processed to verify and impute \"Travel Time\" is:\n",
    "1. First, find speed for each observation\n",
    "2. Find mean of all speed data\n",
    "3. Check if the speed of each observation is within the range of that mean+1 or mean-1\n",
    "4. If not within the range, then replace the speed by the mean value\n",
    "3. Now, calculate travel time by above mentioned formula\n",
    "4. We use the new travel time values as final\n",
    "\n",
    "\n",
    "The reason of using the new travel time value is because it verfies the data and include 5 mins each for take-off and landing."
   ]
  },
  {
   "cell_type": "markdown",
   "metadata": {},
   "source": [
    "Let create a another copy df and create a speed column first.\n",
    "\n",
    "The data in speed column is calculated considering drone type. That is, each drone type will have different mean of speed."
   ]
  },
  {
   "cell_type": "code",
   "execution_count": 18,
   "metadata": {},
   "outputs": [
    {
     "name": "stdout",
     "output_type": "stream",
     "text": [
      "1.010250711101323\n",
      "1.0704675629543945\n",
      "1.1139951995243156\n"
     ]
    }
   ],
   "source": [
    "# Create a copy df\n",
    "temp_df = df.copy()\n",
    "\n",
    "# Calculate speed\n",
    "temp_df['speed'] = temp_df['Journey Distance'] / temp_df['Travel Time']\n",
    "\n",
    "# Different means as per drone type\n",
    "type1 = temp_df['Drone Type'] == 1\n",
    "drone_type1_mean = temp_df.loc[type1, 'speed'].mean()\n",
    "\n",
    "type2 = temp_df['Drone Type'] == 2\n",
    "drone_type2_mean = temp_df.loc[type2, 'speed'].mean()\n",
    "\n",
    "type3 = temp_df['Drone Type'] == 3\n",
    "drone_type3_mean = temp_df.loc[type3, 'speed'].mean()\n",
    "\n",
    "\n",
    "# Display the means\n",
    "print(drone_type1_mean)\n",
    "print(drone_type2_mean)\n",
    "print(drone_type3_mean)"
   ]
  },
  {
   "cell_type": "markdown",
   "metadata": {},
   "source": [
    "Check if the speed of each observation is within the range of that mean+1 or mean-1\n",
    "If not within the range, then replace the speed by the mean value"
   ]
  },
  {
   "cell_type": "code",
   "execution_count": 19,
   "metadata": {},
   "outputs": [],
   "source": [
    "temp_df.loc[(temp_df['Drone Type'] == 1) & \n",
    "            ~((temp_df['speed'] <= (drone_type1_mean+1)) & (temp_df['speed'] >= (drone_type1_mean-1))), \n",
    "              ['speed']] = drone_type1_mean\n",
    "\n",
    "temp_df.loc[(temp_df['Drone Type'] == 2) & \n",
    "            ~((temp_df['speed'] <= (drone_type2_mean+1)) & (temp_df['speed'] >= (drone_type2_mean-1))), \n",
    "              ['speed']] = drone_type2_mean\n",
    "\n",
    "temp_df.loc[(temp_df['Drone Type'] == 3) & \n",
    "            ~((temp_df['speed'] <= (drone_type3_mean+1)) & (temp_df['speed'] >= (drone_type3_mean-1))), \n",
    "              ['speed']] = drone_type3_mean"
   ]
  },
  {
   "cell_type": "markdown",
   "metadata": {},
   "source": [
    "We drop the original travel time column because we'll calculate and use the new values"
   ]
  },
  {
   "cell_type": "code",
   "execution_count": 20,
   "metadata": {},
   "outputs": [],
   "source": [
    "temp_df = temp_df.drop('Travel Time', 1)"
   ]
  },
  {
   "cell_type": "markdown",
   "metadata": {},
   "source": [
    "Calculate new travel time and check for missing value"
   ]
  },
  {
   "cell_type": "code",
   "execution_count": 21,
   "metadata": {},
   "outputs": [
    {
     "data": {
      "text/plain": [
       "Id                        0\n",
       "Drone Type                0\n",
       "Post Type                 0\n",
       "Package Weight            0\n",
       "Origin Region             0\n",
       "Destination Region        0\n",
       "Origin Latitude           0\n",
       "Origin Longitude          0\n",
       "Destination Latitude      0\n",
       "Destination Longitude     0\n",
       "Journey Distance          0\n",
       "Departure Date            0\n",
       "Departure Time            0\n",
       "Delivery Time             0\n",
       "Delivery Fare            29\n",
       "speed                     0\n",
       "Travel Time               0\n",
       "dtype: int64"
      ]
     },
     "execution_count": 21,
     "metadata": {},
     "output_type": "execute_result"
    }
   ],
   "source": [
    "# Create new travel time column in df as float data type\n",
    "temp_df['Travel Time'] = 0\n",
    "temp_df['Travel Time'] = temp_df['Travel Time'].astype(np.float64)\n",
    "\n",
    "# Calculate new travel time based on drone type\n",
    "temp_df.loc[(temp_df['Drone Type'] == 1), ['Travel Time']] = 10 + (\n",
    "    temp_df['Journey Distance'] - (drone_type1_mean/12)) / temp_df['speed']\n",
    "\n",
    "temp_df.loc[(temp_df['Drone Type'] == 2), ['Travel Time']] = 10 + (\n",
    "    temp_df['Journey Distance'] - (drone_type2_mean/12)) / temp_df['speed']\n",
    "\n",
    "temp_df.loc[(temp_df['Drone Type'] == 3), ['Travel Time']] = 10 + (\n",
    "    temp_df['Journey Distance'] - (drone_type3_mean/12)) / temp_df['speed']\n",
    "\n",
    "# Check for missing values in travel time\n",
    "temp_df.isnull().sum()"
   ]
  },
  {
   "cell_type": "markdown",
   "metadata": {},
   "source": [
    "We now do not need the speed column so drop it"
   ]
  },
  {
   "cell_type": "code",
   "execution_count": 22,
   "metadata": {},
   "outputs": [],
   "source": [
    "temp_df = temp_df.drop('speed', 1)"
   ]
  },
  {
   "cell_type": "markdown",
   "metadata": {},
   "source": [
    "Re arrange the df as per orignal format "
   ]
  },
  {
   "cell_type": "code",
   "execution_count": 23,
   "metadata": {},
   "outputs": [
    {
     "data": {
      "text/plain": [
       "Id                        0\n",
       "Drone Type                0\n",
       "Post Type                 0\n",
       "Package Weight            0\n",
       "Origin Region             0\n",
       "Destination Region        0\n",
       "Origin Latitude           0\n",
       "Origin Longitude          0\n",
       "Destination Latitude      0\n",
       "Destination Longitude     0\n",
       "Journey Distance          0\n",
       "Departure Date            0\n",
       "Departure Time            0\n",
       "Travel Time               0\n",
       "Delivery Time             0\n",
       "Delivery Fare            29\n",
       "dtype: int64"
      ]
     },
     "execution_count": 23,
     "metadata": {},
     "output_type": "execute_result"
    }
   ],
   "source": [
    "temp_df = temp_df[['Id',\n",
    "         'Drone Type',\n",
    "            'Post Type',\n",
    "            'Package Weight',\n",
    "            'Origin Region',\n",
    "            'Destination Region',\n",
    "            'Origin Latitude',\n",
    "            'Origin Longitude',\n",
    "            'Destination Latitude',\n",
    "            'Destination Longitude',\n",
    "            'Journey Distance',\n",
    "         'Departure Date',\n",
    "         'Departure Time',\n",
    "            'Travel Time',\n",
    "            'Delivery Time',\n",
    "            'Delivery Fare']]\n",
    "\n",
    "df = temp_df.copy()\n",
    "\n",
    "df.isnull().sum()"
   ]
  },
  {
   "cell_type": "markdown",
   "metadata": {},
   "source": [
    "### Further imputation methods (linear regression, mean imputation, etc)"
   ]
  },
  {
   "cell_type": "markdown",
   "metadata": {},
   "source": [
    "First, lets plot boxplot for each column and see the variation of data"
   ]
  },
  {
   "cell_type": "code",
   "execution_count": 24,
   "metadata": {
    "scrolled": true
   },
   "outputs": [
    {
     "data": {
      "image/png": "[encoded data removed]",
      "text/plain": [
       "<Figure size 432x288 with 1 Axes>"
      ]
     },
     "metadata": {},
     "output_type": "display_data"
    },
    {
     "data": {
      "image/png": "[encoded data removed]",
      "text/plain": [
       "<Figure size 432x288 with 1 Axes>"
      ]
     },
     "metadata": {},
     "output_type": "display_data"
    },
    {
     "data": {
      "image/png": "[encoded data removed]",
      "text/plain": [
       "<Figure size 432x288 with 1 Axes>"
      ]
     },
     "metadata": {},
     "output_type": "display_data"
    },
    {
     "data": {
      "image/png": "[encoded data removed]",
      "text/plain": [
       "<Figure size 432x288 with 1 Axes>"
      ]
     },
     "metadata": {},
     "output_type": "display_data"
    },
    {
     "data": {
      "image/png": "[encoded data removed]",
      "text/plain": [
       "<Figure size 432x288 with 1 Axes>"
      ]
     },
     "metadata": {},
     "output_type": "display_data"
    },
    {
     "data": {
      "image/png": "[encoded data removed]",
      "text/plain": [
       "<Figure size 432x288 with 1 Axes>"
      ]
     },
     "metadata": {},
     "output_type": "display_data"
    },
    {
     "data": {
      "image/png": "[encoded data removed]",
      "text/plain": [
       "<Figure size 432x288 with 1 Axes>"
      ]
     },
     "metadata": {},
     "output_type": "display_data"
    },
    {
     "data": {
      "image/png": "[encoded data removed]",
      "text/plain": [
       "<Figure size 432x288 with 1 Axes>"
      ]
     },
     "metadata": {},
     "output_type": "display_data"
    },
    {
     "data": {
      "image/png": "[encoded data removed]",
      "text/plain": [
       "<Figure size 432x288 with 1 Axes>"
      ]
     },
     "metadata": {},
     "output_type": "display_data"
    },
    {
     "data": {
      "image/png": "[encoded data removed]",
      "text/plain": [
       "<Figure size 432x288 with 1 Axes>"
      ]
     },
     "metadata": {},
     "output_type": "display_data"
    },
    {
     "data": {
      "image/png": "[encoded data removed]",
      "text/plain": [
       "<Figure size 432x288 with 1 Axes>"
      ]
     },
     "metadata": {},
     "output_type": "display_data"
    },
    {
     "data": {
      "image/png": "[encoded data removed]",
      "text/plain": [
       "<Figure size 432x288 with 1 Axes>"
      ]
     },
     "metadata": {},
     "output_type": "display_data"
    }
   ],
   "source": [
    "b_list = (['Drone Type',\n",
    "            'Post Type',\n",
    "            'Package Weight',\n",
    "            'Origin Region',\n",
    "            'Destination Region',\n",
    "            'Origin Latitude',\n",
    "            'Origin Longitude',\n",
    "            'Destination Latitude',\n",
    "            'Destination Longitude',\n",
    "            'Journey Distance',\n",
    "            'Travel Time',\n",
    "            'Delivery Fare'])\n",
    "\n",
    "for idx, val in enumerate(b_list):\n",
    "    plt.figure()\n",
    "    df.boxplot(column=[b_list[idx]])"
   ]
  },
  {
   "cell_type": "markdown",
   "metadata": {},
   "source": [
    "Ah, there is something wrong with \"Delivery Fare\". Let particularly see this column again in detail"
   ]
  },
  {
   "cell_type": "code",
   "execution_count": 25,
   "metadata": {},
   "outputs": [
    {
     "data": {
      "image/png": "[encoded data removed]",
      "text/plain": [
       "<Figure size 432x288 with 1 Axes>"
      ]
     },
     "metadata": {},
     "output_type": "display_data"
    },
    {
     "data": {
      "image/png": "[encoded data removed]",
      "text/plain": [
       "<Figure size 432x288 with 1 Axes>"
      ]
     },
     "metadata": {},
     "output_type": "display_data"
    }
   ],
   "source": [
    "plt.figure()\n",
    "df.boxplot(column=[b_list[idx]])\n",
    "\n",
    "sm.qqplot(df['Delivery Fare'])\n",
    "pylab.show()"
   ]
  },
  {
   "cell_type": "markdown",
   "metadata": {},
   "source": [
    "We'll try to find the correlation between \"Delivery fare\" and other variable"
   ]
  },
  {
   "cell_type": "code",
   "execution_count": 26,
   "metadata": {
    "scrolled": true
   },
   "outputs": [
    {
     "data": {
      "text/html": [
       "<style  type=\"text/css\" >\n",
       "    #T_85c837ba_c7dd_11e8_b4aa_5453ed2c875arow0_col0 {\n",
       "            background-color:  #023858;\n",
       "        }    #T_85c837ba_c7dd_11e8_b4aa_5453ed2c875arow0_col1 {\n",
       "            background-color:  #fef6fb;\n",
       "        }    #T_85c837ba_c7dd_11e8_b4aa_5453ed2c875arow0_col2 {\n",
       "            background-color:  #fef6fb;\n",
       "        }    #T_85c837ba_c7dd_11e8_b4aa_5453ed2c875arow0_col3 {\n",
       "            background-color:  #f4eef6;\n",
       "        }    #T_85c837ba_c7dd_11e8_b4aa_5453ed2c875arow0_col4 {\n",
       "            background-color:  #f4eef6;\n",
       "        }    #T_85c837ba_c7dd_11e8_b4aa_5453ed2c875arow0_col5 {\n",
       "            background-color:  #f4eef6;\n",
       "        }    #T_85c837ba_c7dd_11e8_b4aa_5453ed2c875arow0_col6 {\n",
       "            background-color:  #f5eef6;\n",
       "        }    #T_85c837ba_c7dd_11e8_b4aa_5453ed2c875arow0_col7 {\n",
       "            background-color:  #f5eef6;\n",
       "        }    #T_85c837ba_c7dd_11e8_b4aa_5453ed2c875arow0_col8 {\n",
       "            background-color:  #f5eff6;\n",
       "        }    #T_85c837ba_c7dd_11e8_b4aa_5453ed2c875arow0_col9 {\n",
       "            background-color:  #fff7fb;\n",
       "        }    #T_85c837ba_c7dd_11e8_b4aa_5453ed2c875arow0_col10 {\n",
       "            background-color:  #fff7fb;\n",
       "        }    #T_85c837ba_c7dd_11e8_b4aa_5453ed2c875arow0_col11 {\n",
       "            background-color:  #8eb3d5;\n",
       "        }    #T_85c837ba_c7dd_11e8_b4aa_5453ed2c875arow1_col0 {\n",
       "            background-color:  #f4eef6;\n",
       "        }    #T_85c837ba_c7dd_11e8_b4aa_5453ed2c875arow1_col1 {\n",
       "            background-color:  #023858;\n",
       "        }    #T_85c837ba_c7dd_11e8_b4aa_5453ed2c875arow1_col2 {\n",
       "            background-color:  #fef6fb;\n",
       "        }    #T_85c837ba_c7dd_11e8_b4aa_5453ed2c875arow1_col3 {\n",
       "            background-color:  #f4eef6;\n",
       "        }    #T_85c837ba_c7dd_11e8_b4aa_5453ed2c875arow1_col4 {\n",
       "            background-color:  #f6eff7;\n",
       "        }    #T_85c837ba_c7dd_11e8_b4aa_5453ed2c875arow1_col5 {\n",
       "            background-color:  #f4edf6;\n",
       "        }    #T_85c837ba_c7dd_11e8_b4aa_5453ed2c875arow1_col6 {\n",
       "            background-color:  #f5eef6;\n",
       "        }    #T_85c837ba_c7dd_11e8_b4aa_5453ed2c875arow1_col7 {\n",
       "            background-color:  #f6eff7;\n",
       "        }    #T_85c837ba_c7dd_11e8_b4aa_5453ed2c875arow1_col8 {\n",
       "            background-color:  #f5eff6;\n",
       "        }    #T_85c837ba_c7dd_11e8_b4aa_5453ed2c875arow1_col9 {\n",
       "            background-color:  #fff7fb;\n",
       "        }    #T_85c837ba_c7dd_11e8_b4aa_5453ed2c875arow1_col10 {\n",
       "            background-color:  #f4eef6;\n",
       "        }    #T_85c837ba_c7dd_11e8_b4aa_5453ed2c875arow1_col11 {\n",
       "            background-color:  #c6cce3;\n",
       "        }    #T_85c837ba_c7dd_11e8_b4aa_5453ed2c875arow2_col0 {\n",
       "            background-color:  #f4edf6;\n",
       "        }    #T_85c837ba_c7dd_11e8_b4aa_5453ed2c875arow2_col1 {\n",
       "            background-color:  #fff7fb;\n",
       "        }    #T_85c837ba_c7dd_11e8_b4aa_5453ed2c875arow2_col2 {\n",
       "            background-color:  #023858;\n",
       "        }    #T_85c837ba_c7dd_11e8_b4aa_5453ed2c875arow2_col3 {\n",
       "            background-color:  #f4edf6;\n",
       "        }    #T_85c837ba_c7dd_11e8_b4aa_5453ed2c875arow2_col4 {\n",
       "            background-color:  #f5eff6;\n",
       "        }    #T_85c837ba_c7dd_11e8_b4aa_5453ed2c875arow2_col5 {\n",
       "            background-color:  #f4edf6;\n",
       "        }    #T_85c837ba_c7dd_11e8_b4aa_5453ed2c875arow2_col6 {\n",
       "            background-color:  #f4eef6;\n",
       "        }    #T_85c837ba_c7dd_11e8_b4aa_5453ed2c875arow2_col7 {\n",
       "            background-color:  #f5eef6;\n",
       "        }    #T_85c837ba_c7dd_11e8_b4aa_5453ed2c875arow2_col8 {\n",
       "            background-color:  #f7f0f7;\n",
       "        }    #T_85c837ba_c7dd_11e8_b4aa_5453ed2c875arow2_col9 {\n",
       "            background-color:  #fff7fb;\n",
       "        }    #T_85c837ba_c7dd_11e8_b4aa_5453ed2c875arow2_col10 {\n",
       "            background-color:  #f4eef6;\n",
       "        }    #T_85c837ba_c7dd_11e8_b4aa_5453ed2c875arow2_col11 {\n",
       "            background-color:  #e0deed;\n",
       "        }    #T_85c837ba_c7dd_11e8_b4aa_5453ed2c875arow3_col0 {\n",
       "            background-color:  #f5eef6;\n",
       "        }    #T_85c837ba_c7dd_11e8_b4aa_5453ed2c875arow3_col1 {\n",
       "            background-color:  #fff7fb;\n",
       "        }    #T_85c837ba_c7dd_11e8_b4aa_5453ed2c875arow3_col2 {\n",
       "            background-color:  #fef6fb;\n",
       "        }    #T_85c837ba_c7dd_11e8_b4aa_5453ed2c875arow3_col3 {\n",
       "            background-color:  #023858;\n",
       "        }    #T_85c837ba_c7dd_11e8_b4aa_5453ed2c875arow3_col4 {\n",
       "            background-color:  #f5eef6;\n",
       "        }    #T_85c837ba_c7dd_11e8_b4aa_5453ed2c875arow3_col5 {\n",
       "            background-color:  #fff7fb;\n",
       "        }    #T_85c837ba_c7dd_11e8_b4aa_5453ed2c875arow3_col6 {\n",
       "            background-color:  #f7f0f7;\n",
       "        }    #T_85c837ba_c7dd_11e8_b4aa_5453ed2c875arow3_col7 {\n",
       "            background-color:  #f5eef6;\n",
       "        }    #T_85c837ba_c7dd_11e8_b4aa_5453ed2c875arow3_col8 {\n",
       "            background-color:  #f7f0f7;\n",
       "        }    #T_85c837ba_c7dd_11e8_b4aa_5453ed2c875arow3_col9 {\n",
       "            background-color:  #eae6f1;\n",
       "        }    #T_85c837ba_c7dd_11e8_b4aa_5453ed2c875arow3_col10 {\n",
       "            background-color:  #dcdaeb;\n",
       "        }    #T_85c837ba_c7dd_11e8_b4aa_5453ed2c875arow3_col11 {\n",
       "            background-color:  #fdf5fa;\n",
       "        }    #T_85c837ba_c7dd_11e8_b4aa_5453ed2c875arow4_col0 {\n",
       "            background-color:  #f4edf6;\n",
       "        }    #T_85c837ba_c7dd_11e8_b4aa_5453ed2c875arow4_col1 {\n",
       "            background-color:  #fff7fb;\n",
       "        }    #T_85c837ba_c7dd_11e8_b4aa_5453ed2c875arow4_col2 {\n",
       "            background-color:  #fef6fb;\n",
       "        }    #T_85c837ba_c7dd_11e8_b4aa_5453ed2c875arow4_col3 {\n",
       "            background-color:  #f4edf6;\n",
       "        }    #T_85c837ba_c7dd_11e8_b4aa_5453ed2c875arow4_col4 {\n",
       "            background-color:  #023858;\n",
       "        }    #T_85c837ba_c7dd_11e8_b4aa_5453ed2c875arow4_col5 {\n",
       "            background-color:  #f5eef6;\n",
       "        }    #T_85c837ba_c7dd_11e8_b4aa_5453ed2c875arow4_col6 {\n",
       "            background-color:  #f4eef6;\n",
       "        }    #T_85c837ba_c7dd_11e8_b4aa_5453ed2c875arow4_col7 {\n",
       "            background-color:  #fff7fb;\n",
       "        }    #T_85c837ba_c7dd_11e8_b4aa_5453ed2c875arow4_col8 {\n",
       "            background-color:  #faf2f8;\n",
       "        }    #T_85c837ba_c7dd_11e8_b4aa_5453ed2c875arow4_col9 {\n",
       "            background-color:  #ede7f2;\n",
       "        }    #T_85c837ba_c7dd_11e8_b4aa_5453ed2c875arow4_col10 {\n",
       "            background-color:  #dfddec;\n",
       "        }    #T_85c837ba_c7dd_11e8_b4aa_5453ed2c875arow4_col11 {\n",
       "            background-color:  #fbf4f9;\n",
       "        }    #T_85c837ba_c7dd_11e8_b4aa_5453ed2c875arow5_col0 {\n",
       "            background-color:  #f4eef6;\n",
       "        }    #T_85c837ba_c7dd_11e8_b4aa_5453ed2c875arow5_col1 {\n",
       "            background-color:  #fef6fb;\n",
       "        }    #T_85c837ba_c7dd_11e8_b4aa_5453ed2c875arow5_col2 {\n",
       "            background-color:  #fef6fb;\n",
       "        }    #T_85c837ba_c7dd_11e8_b4aa_5453ed2c875arow5_col3 {\n",
       "            background-color:  #fff7fb;\n",
       "        }    #T_85c837ba_c7dd_11e8_b4aa_5453ed2c875arow5_col4 {\n",
       "            background-color:  #f6eff7;\n",
       "        }    #T_85c837ba_c7dd_11e8_b4aa_5453ed2c875arow5_col5 {\n",
       "            background-color:  #023858;\n",
       "        }    #T_85c837ba_c7dd_11e8_b4aa_5453ed2c875arow5_col6 {\n",
       "            background-color:  #fff7fb;\n",
       "        }    #T_85c837ba_c7dd_11e8_b4aa_5453ed2c875arow5_col7 {\n",
       "            background-color:  #f5eef6;\n",
       "        }    #T_85c837ba_c7dd_11e8_b4aa_5453ed2c875arow5_col8 {\n",
       "            background-color:  #f7f0f7;\n",
       "        }    #T_85c837ba_c7dd_11e8_b4aa_5453ed2c875arow5_col9 {\n",
       "            background-color:  #faf2f8;\n",
       "        }    #T_85c837ba_c7dd_11e8_b4aa_5453ed2c875arow5_col10 {\n",
       "            background-color:  #efe9f3;\n",
       "        }    #T_85c837ba_c7dd_11e8_b4aa_5453ed2c875arow5_col11 {\n",
       "            background-color:  #fef6fa;\n",
       "        }    #T_85c837ba_c7dd_11e8_b4aa_5453ed2c875arow6_col0 {\n",
       "            background-color:  #f4edf6;\n",
       "        }    #T_85c837ba_c7dd_11e8_b4aa_5453ed2c875arow6_col1 {\n",
       "            background-color:  #fef6fb;\n",
       "        }    #T_85c837ba_c7dd_11e8_b4aa_5453ed2c875arow6_col2 {\n",
       "            background-color:  #fef6fa;\n",
       "        }    #T_85c837ba_c7dd_11e8_b4aa_5453ed2c875arow6_col3 {\n",
       "            background-color:  #f5eff6;\n",
       "        }    #T_85c837ba_c7dd_11e8_b4aa_5453ed2c875arow6_col4 {\n",
       "            background-color:  #f4eef6;\n",
       "        }    #T_85c837ba_c7dd_11e8_b4aa_5453ed2c875arow6_col5 {\n",
       "            background-color:  #fef6fb;\n",
       "        }    #T_85c837ba_c7dd_11e8_b4aa_5453ed2c875arow6_col6 {\n",
       "            background-color:  #023858;\n",
       "        }    #T_85c837ba_c7dd_11e8_b4aa_5453ed2c875arow6_col7 {\n",
       "            background-color:  #f5eff6;\n",
       "        }    #T_85c837ba_c7dd_11e8_b4aa_5453ed2c875arow6_col8 {\n",
       "            background-color:  #f5eef6;\n",
       "        }    #T_85c837ba_c7dd_11e8_b4aa_5453ed2c875arow6_col9 {\n",
       "            background-color:  #fff7fb;\n",
       "        }    #T_85c837ba_c7dd_11e8_b4aa_5453ed2c875arow6_col10 {\n",
       "            background-color:  #f4eef6;\n",
       "        }    #T_85c837ba_c7dd_11e8_b4aa_5453ed2c875arow6_col11 {\n",
       "            background-color:  #fff7fb;\n",
       "        }    #T_85c837ba_c7dd_11e8_b4aa_5453ed2c875arow7_col0 {\n",
       "            background-color:  #f4edf6;\n",
       "        }    #T_85c837ba_c7dd_11e8_b4aa_5453ed2c875arow7_col1 {\n",
       "            background-color:  #fff7fb;\n",
       "        }    #T_85c837ba_c7dd_11e8_b4aa_5453ed2c875arow7_col2 {\n",
       "            background-color:  #fef6fb;\n",
       "        }    #T_85c837ba_c7dd_11e8_b4aa_5453ed2c875arow7_col3 {\n",
       "            background-color:  #f4edf6;\n",
       "        }    #T_85c837ba_c7dd_11e8_b4aa_5453ed2c875arow7_col4 {\n",
       "            background-color:  #fff7fb;\n",
       "        }    #T_85c837ba_c7dd_11e8_b4aa_5453ed2c875arow7_col5 {\n",
       "            background-color:  #f4edf6;\n",
       "        }    #T_85c837ba_c7dd_11e8_b4aa_5453ed2c875arow7_col6 {\n",
       "            background-color:  #f5eff6;\n",
       "        }    #T_85c837ba_c7dd_11e8_b4aa_5453ed2c875arow7_col7 {\n",
       "            background-color:  #023858;\n",
       "        }    #T_85c837ba_c7dd_11e8_b4aa_5453ed2c875arow7_col8 {\n",
       "            background-color:  #fff7fb;\n",
       "        }    #T_85c837ba_c7dd_11e8_b4aa_5453ed2c875arow7_col9 {\n",
       "            background-color:  #f8f1f8;\n",
       "        }    #T_85c837ba_c7dd_11e8_b4aa_5453ed2c875arow7_col10 {\n",
       "            background-color:  #eee8f3;\n",
       "        }    #T_85c837ba_c7dd_11e8_b4aa_5453ed2c875arow7_col11 {\n",
       "            background-color:  #fef6fb;\n",
       "        }    #T_85c837ba_c7dd_11e8_b4aa_5453ed2c875arow8_col0 {\n",
       "            background-color:  #f4edf6;\n",
       "        }    #T_85c837ba_c7dd_11e8_b4aa_5453ed2c875arow8_col1 {\n",
       "            background-color:  #fef6fa;\n",
       "        }    #T_85c837ba_c7dd_11e8_b4aa_5453ed2c875arow8_col2 {\n",
       "            background-color:  #fff7fb;\n",
       "        }    #T_85c837ba_c7dd_11e8_b4aa_5453ed2c875arow8_col3 {\n",
       "            background-color:  #f5eef6;\n",
       "        }    #T_85c837ba_c7dd_11e8_b4aa_5453ed2c875arow8_col4 {\n",
       "            background-color:  #f8f1f8;\n",
       "        }    #T_85c837ba_c7dd_11e8_b4aa_5453ed2c875arow8_col5 {\n",
       "            background-color:  #f4eef6;\n",
       "        }    #T_85c837ba_c7dd_11e8_b4aa_5453ed2c875arow8_col6 {\n",
       "            background-color:  #f4edf6;\n",
       "        }    #T_85c837ba_c7dd_11e8_b4aa_5453ed2c875arow8_col7 {\n",
       "            background-color:  #fef6fb;\n",
       "        }    #T_85c837ba_c7dd_11e8_b4aa_5453ed2c875arow8_col8 {\n",
       "            background-color:  #023858;\n",
       "        }    #T_85c837ba_c7dd_11e8_b4aa_5453ed2c875arow8_col9 {\n",
       "            background-color:  #fff7fb;\n",
       "        }    #T_85c837ba_c7dd_11e8_b4aa_5453ed2c875arow8_col10 {\n",
       "            background-color:  #f4eef6;\n",
       "        }    #T_85c837ba_c7dd_11e8_b4aa_5453ed2c875arow8_col11 {\n",
       "            background-color:  #fef6fa;\n",
       "        }    #T_85c837ba_c7dd_11e8_b4aa_5453ed2c875arow9_col0 {\n",
       "            background-color:  #f4eef6;\n",
       "        }    #T_85c837ba_c7dd_11e8_b4aa_5453ed2c875arow9_col1 {\n",
       "            background-color:  #fef6fb;\n",
       "        }    #T_85c837ba_c7dd_11e8_b4aa_5453ed2c875arow9_col2 {\n",
       "            background-color:  #fef6fb;\n",
       "        }    #T_85c837ba_c7dd_11e8_b4aa_5453ed2c875arow9_col3 {\n",
       "            background-color:  #dcdaeb;\n",
       "        }    #T_85c837ba_c7dd_11e8_b4aa_5453ed2c875arow9_col4 {\n",
       "            background-color:  #e0deed;\n",
       "        }    #T_85c837ba_c7dd_11e8_b4aa_5453ed2c875arow9_col5 {\n",
       "            background-color:  #efe9f3;\n",
       "        }    #T_85c837ba_c7dd_11e8_b4aa_5453ed2c875arow9_col6 {\n",
       "            background-color:  #f5eef6;\n",
       "        }    #T_85c837ba_c7dd_11e8_b4aa_5453ed2c875arow9_col7 {\n",
       "            background-color:  #efe9f3;\n",
       "        }    #T_85c837ba_c7dd_11e8_b4aa_5453ed2c875arow9_col8 {\n",
       "            background-color:  #f6eff7;\n",
       "        }    #T_85c837ba_c7dd_11e8_b4aa_5453ed2c875arow9_col9 {\n",
       "            background-color:  #023858;\n",
       "        }    #T_85c837ba_c7dd_11e8_b4aa_5453ed2c875arow9_col10 {\n",
       "            background-color:  #023858;\n",
       "        }    #T_85c837ba_c7dd_11e8_b4aa_5453ed2c875arow9_col11 {\n",
       "            background-color:  #e0deed;\n",
       "        }    #T_85c837ba_c7dd_11e8_b4aa_5453ed2c875arow10_col0 {\n",
       "            background-color:  #fff7fb;\n",
       "        }    #T_85c837ba_c7dd_11e8_b4aa_5453ed2c875arow10_col1 {\n",
       "            background-color:  #fef6fb;\n",
       "        }    #T_85c837ba_c7dd_11e8_b4aa_5453ed2c875arow10_col2 {\n",
       "            background-color:  #fef6fb;\n",
       "        }    #T_85c837ba_c7dd_11e8_b4aa_5453ed2c875arow10_col3 {\n",
       "            background-color:  #dcdaeb;\n",
       "        }    #T_85c837ba_c7dd_11e8_b4aa_5453ed2c875arow10_col4 {\n",
       "            background-color:  #e0deed;\n",
       "        }    #T_85c837ba_c7dd_11e8_b4aa_5453ed2c875arow10_col5 {\n",
       "            background-color:  #efe9f3;\n",
       "        }    #T_85c837ba_c7dd_11e8_b4aa_5453ed2c875arow10_col6 {\n",
       "            background-color:  #f5eef6;\n",
       "        }    #T_85c837ba_c7dd_11e8_b4aa_5453ed2c875arow10_col7 {\n",
       "            background-color:  #efe9f3;\n",
       "        }    #T_85c837ba_c7dd_11e8_b4aa_5453ed2c875arow10_col8 {\n",
       "            background-color:  #f7f0f7;\n",
       "        }    #T_85c837ba_c7dd_11e8_b4aa_5453ed2c875arow10_col9 {\n",
       "            background-color:  #02395a;\n",
       "        }    #T_85c837ba_c7dd_11e8_b4aa_5453ed2c875arow10_col10 {\n",
       "            background-color:  #023858;\n",
       "        }    #T_85c837ba_c7dd_11e8_b4aa_5453ed2c875arow10_col11 {\n",
       "            background-color:  #e8e4f0;\n",
       "        }    #T_85c837ba_c7dd_11e8_b4aa_5453ed2c875arow11_col0 {\n",
       "            background-color:  #7dacd1;\n",
       "        }    #T_85c837ba_c7dd_11e8_b4aa_5453ed2c875arow11_col1 {\n",
       "            background-color:  #c6cce3;\n",
       "        }    #T_85c837ba_c7dd_11e8_b4aa_5453ed2c875arow11_col2 {\n",
       "            background-color:  #e0dded;\n",
       "        }    #T_85c837ba_c7dd_11e8_b4aa_5453ed2c875arow11_col3 {\n",
       "            background-color:  #f2ecf5;\n",
       "        }    #T_85c837ba_c7dd_11e8_b4aa_5453ed2c875arow11_col4 {\n",
       "            background-color:  #f2ecf5;\n",
       "        }    #T_85c837ba_c7dd_11e8_b4aa_5453ed2c875arow11_col5 {\n",
       "            background-color:  #f2ecf5;\n",
       "        }    #T_85c837ba_c7dd_11e8_b4aa_5453ed2c875arow11_col6 {\n",
       "            background-color:  #f5eff6;\n",
       "        }    #T_85c837ba_c7dd_11e8_b4aa_5453ed2c875arow11_col7 {\n",
       "            background-color:  #f4eef6;\n",
       "        }    #T_85c837ba_c7dd_11e8_b4aa_5453ed2c875arow11_col8 {\n",
       "            background-color:  #f5eef6;\n",
       "        }    #T_85c837ba_c7dd_11e8_b4aa_5453ed2c875arow11_col9 {\n",
       "            background-color:  #e0deed;\n",
       "        }    #T_85c837ba_c7dd_11e8_b4aa_5453ed2c875arow11_col10 {\n",
       "            background-color:  #dad9ea;\n",
       "        }    #T_85c837ba_c7dd_11e8_b4aa_5453ed2c875arow11_col11 {\n",
       "            background-color:  #023858;\n",
       "        }</style>  \n",
       "<table id=\"T_85c837ba_c7dd_11e8_b4aa_5453ed2c875a\" > \n",
       "<thead>    <tr> \n",
       "        <th class=\"blank level0\" ></th> \n",
       "        <th class=\"col_heading level0 col0\" >Drone Type</th> \n",
       "        <th class=\"col_heading level0 col1\" >Post Type</th> \n",
       "        <th class=\"col_heading level0 col2\" >Package Weight</th> \n",
       "        <th class=\"col_heading level0 col3\" >Origin Region</th> \n",
       "        <th class=\"col_heading level0 col4\" >Destination Region</th> \n",
       "        <th class=\"col_heading level0 col5\" >Origin Latitude</th> \n",
       "        <th class=\"col_heading level0 col6\" >Origin Longitude</th> \n",
       "        <th class=\"col_heading level0 col7\" >Destination Latitude</th> \n",
       "        <th class=\"col_heading level0 col8\" >Destination Longitude</th> \n",
       "        <th class=\"col_heading level0 col9\" >Journey Distance</th> \n",
       "        <th class=\"col_heading level0 col10\" >Travel Time</th> \n",
       "        <th class=\"col_heading level0 col11\" >Delivery Fare</th> \n",
       "    </tr></thead> \n",
       "<tbody>    <tr> \n",
       "        <th id=\"T_85c837ba_c7dd_11e8_b4aa_5453ed2c875alevel0_row0\" class=\"row_heading level0 row0\" >Drone Type</th> \n",
       "        <td id=\"T_85c837ba_c7dd_11e8_b4aa_5453ed2c875arow0_col0\" class=\"data row0 col0\" >1</td> \n",
       "        <td id=\"T_85c837ba_c7dd_11e8_b4aa_5453ed2c875arow0_col1\" class=\"data row0 col1\" >0.00151054</td> \n",
       "        <td id=\"T_85c837ba_c7dd_11e8_b4aa_5453ed2c875arow0_col2\" class=\"data row0 col2\" >0.00343907</td> \n",
       "        <td id=\"T_85c837ba_c7dd_11e8_b4aa_5453ed2c875arow0_col3\" class=\"data row0 col3\" >-0.00246347</td> \n",
       "        <td id=\"T_85c837ba_c7dd_11e8_b4aa_5453ed2c875arow0_col4\" class=\"data row0 col4\" >0.00614676</td> \n",
       "        <td id=\"T_85c837ba_c7dd_11e8_b4aa_5453ed2c875arow0_col5\" class=\"data row0 col5\" >-0.000537804</td> \n",
       "        <td id=\"T_85c837ba_c7dd_11e8_b4aa_5453ed2c875arow0_col6\" class=\"data row0 col6\" >0.0026111</td> \n",
       "        <td id=\"T_85c837ba_c7dd_11e8_b4aa_5453ed2c875arow0_col7\" class=\"data row0 col7\" >0.00283842</td> \n",
       "        <td id=\"T_85c837ba_c7dd_11e8_b4aa_5453ed2c875arow0_col8\" class=\"data row0 col8\" >0.00466279</td> \n",
       "        <td id=\"T_85c837ba_c7dd_11e8_b4aa_5453ed2c875arow0_col9\" class=\"data row0 col9\" >0.000217978</td> \n",
       "        <td id=\"T_85c837ba_c7dd_11e8_b4aa_5453ed2c875arow0_col10\" class=\"data row0 col10\" >-0.0775089</td> \n",
       "        <td id=\"T_85c837ba_c7dd_11e8_b4aa_5453ed2c875arow0_col11\" class=\"data row0 col11\" >0.437297</td> \n",
       "    </tr>    <tr> \n",
       "        <th id=\"T_85c837ba_c7dd_11e8_b4aa_5453ed2c875alevel0_row1\" class=\"row_heading level0 row1\" >Post Type</th> \n",
       "        <td id=\"T_85c837ba_c7dd_11e8_b4aa_5453ed2c875arow1_col0\" class=\"data row1 col0\" >0.00151054</td> \n",
       "        <td id=\"T_85c837ba_c7dd_11e8_b4aa_5453ed2c875arow1_col1\" class=\"data row1 col1\" >1</td> \n",
       "        <td id=\"T_85c837ba_c7dd_11e8_b4aa_5453ed2c875arow1_col2\" class=\"data row1 col2\" >0.000148882</td> \n",
       "        <td id=\"T_85c837ba_c7dd_11e8_b4aa_5453ed2c875arow1_col3\" class=\"data row1 col3\" >-0.000773378</td> \n",
       "        <td id=\"T_85c837ba_c7dd_11e8_b4aa_5453ed2c875arow1_col4\" class=\"data row1 col4\" >-0.00288666</td> \n",
       "        <td id=\"T_85c837ba_c7dd_11e8_b4aa_5453ed2c875arow1_col5\" class=\"data row1 col5\" >0.00318065</td> \n",
       "        <td id=\"T_85c837ba_c7dd_11e8_b4aa_5453ed2c875arow1_col6\" class=\"data row1 col6\" >0.00410099</td> \n",
       "        <td id=\"T_85c837ba_c7dd_11e8_b4aa_5453ed2c875arow1_col7\" class=\"data row1 col7\" >-0.00341916</td> \n",
       "        <td id=\"T_85c837ba_c7dd_11e8_b4aa_5453ed2c875arow1_col8\" class=\"data row1 col8\" >0.00735688</td> \n",
       "        <td id=\"T_85c837ba_c7dd_11e8_b4aa_5453ed2c875arow1_col9\" class=\"data row1 col9\" >0.00183482</td> \n",
       "        <td id=\"T_85c837ba_c7dd_11e8_b4aa_5453ed2c875arow1_col10\" class=\"data row1 col10\" >0.00146548</td> \n",
       "        <td id=\"T_85c837ba_c7dd_11e8_b4aa_5453ed2c875arow1_col11\" class=\"data row1 col11\" >0.27802</td> \n",
       "    </tr>    <tr> \n",
       "        <th id=\"T_85c837ba_c7dd_11e8_b4aa_5453ed2c875alevel0_row2\" class=\"row_heading level0 row2\" >Package Weight</th> \n",
       "        <td id=\"T_85c837ba_c7dd_11e8_b4aa_5453ed2c875arow2_col0\" class=\"data row2 col0\" >0.00343907</td> \n",
       "        <td id=\"T_85c837ba_c7dd_11e8_b4aa_5453ed2c875arow2_col1\" class=\"data row2 col1\" >0.000148882</td> \n",
       "        <td id=\"T_85c837ba_c7dd_11e8_b4aa_5453ed2c875arow2_col2\" class=\"data row2 col2\" >1</td> \n",
       "        <td id=\"T_85c837ba_c7dd_11e8_b4aa_5453ed2c875arow2_col3\" class=\"data row2 col3\" >0.00183763</td> \n",
       "        <td id=\"T_85c837ba_c7dd_11e8_b4aa_5453ed2c875arow2_col4\" class=\"data row2 col4\" >0.000594649</td> \n",
       "        <td id=\"T_85c837ba_c7dd_11e8_b4aa_5453ed2c875arow2_col5\" class=\"data row2 col5\" >0.00208177</td> \n",
       "        <td id=\"T_85c837ba_c7dd_11e8_b4aa_5453ed2c875arow2_col6\" class=\"data row2 col6\" >0.00646993</td> \n",
       "        <td id=\"T_85c837ba_c7dd_11e8_b4aa_5453ed2c875arow2_col7\" class=\"data row2 col7\" >0.0030563</td> \n",
       "        <td id=\"T_85c837ba_c7dd_11e8_b4aa_5453ed2c875arow2_col8\" class=\"data row2 col8\" >-0.00423957</td> \n",
       "        <td id=\"T_85c837ba_c7dd_11e8_b4aa_5453ed2c875arow2_col9\" class=\"data row2 col9\" >0.00192042</td> \n",
       "        <td id=\"T_85c837ba_c7dd_11e8_b4aa_5453ed2c875arow2_col10\" class=\"data row2 col10\" >0.00157868</td> \n",
       "        <td id=\"T_85c837ba_c7dd_11e8_b4aa_5453ed2c875arow2_col11\" class=\"data row2 col11\" >0.179715</td> \n",
       "    </tr>    <tr> \n",
       "        <th id=\"T_85c837ba_c7dd_11e8_b4aa_5453ed2c875alevel0_row3\" class=\"row_heading level0 row3\" >Origin Region</th> \n",
       "        <td id=\"T_85c837ba_c7dd_11e8_b4aa_5453ed2c875arow3_col0\" class=\"data row3 col0\" >-0.00246347</td> \n",
       "        <td id=\"T_85c837ba_c7dd_11e8_b4aa_5453ed2c875arow3_col1\" class=\"data row3 col1\" >-0.000773378</td> \n",
       "        <td id=\"T_85c837ba_c7dd_11e8_b4aa_5453ed2c875arow3_col2\" class=\"data row3 col2\" >0.00183763</td> \n",
       "        <td id=\"T_85c837ba_c7dd_11e8_b4aa_5453ed2c875arow3_col3\" class=\"data row3 col3\" >1</td> \n",
       "        <td id=\"T_85c837ba_c7dd_11e8_b4aa_5453ed2c875arow3_col4\" class=\"data row3 col4\" >0.00176558</td> \n",
       "        <td id=\"T_85c837ba_c7dd_11e8_b4aa_5453ed2c875arow3_col5\" class=\"data row3 col5\" >-0.0784734</td> \n",
       "        <td id=\"T_85c837ba_c7dd_11e8_b4aa_5453ed2c875arow3_col6\" class=\"data row3 col6\" >-0.0100126</td> \n",
       "        <td id=\"T_85c837ba_c7dd_11e8_b4aa_5453ed2c875arow3_col7\" class=\"data row3 col7\" >0.0032054</td> \n",
       "        <td id=\"T_85c837ba_c7dd_11e8_b4aa_5453ed2c875arow3_col8\" class=\"data row3 col8\" >-0.00486348</td> \n",
       "        <td id=\"T_85c837ba_c7dd_11e8_b4aa_5453ed2c875arow3_col9\" class=\"data row3 col9\" >0.133366</td> \n",
       "        <td id=\"T_85c837ba_c7dd_11e8_b4aa_5453ed2c875arow3_col10\" class=\"data row3 col10\" >0.133309</td> \n",
       "        <td id=\"T_85c837ba_c7dd_11e8_b4aa_5453ed2c875arow3_col11\" class=\"data row3 col11\" >0.0172151</td> \n",
       "    </tr>    <tr> \n",
       "        <th id=\"T_85c837ba_c7dd_11e8_b4aa_5453ed2c875alevel0_row4\" class=\"row_heading level0 row4\" >Destination Region</th> \n",
       "        <td id=\"T_85c837ba_c7dd_11e8_b4aa_5453ed2c875arow4_col0\" class=\"data row4 col0\" >0.00614676</td> \n",
       "        <td id=\"T_85c837ba_c7dd_11e8_b4aa_5453ed2c875arow4_col1\" class=\"data row4 col1\" >-0.00288666</td> \n",
       "        <td id=\"T_85c837ba_c7dd_11e8_b4aa_5453ed2c875arow4_col2\" class=\"data row4 col2\" >0.000594649</td> \n",
       "        <td id=\"T_85c837ba_c7dd_11e8_b4aa_5453ed2c875arow4_col3\" class=\"data row4 col3\" >0.00176558</td> \n",
       "        <td id=\"T_85c837ba_c7dd_11e8_b4aa_5453ed2c875arow4_col4\" class=\"data row4 col4\" >1</td> \n",
       "        <td id=\"T_85c837ba_c7dd_11e8_b4aa_5453ed2c875arow4_col5\" class=\"data row4 col5\" >-0.0029728</td> \n",
       "        <td id=\"T_85c837ba_c7dd_11e8_b4aa_5453ed2c875arow4_col6\" class=\"data row4 col6\" >0.00764918</td> \n",
       "        <td id=\"T_85c837ba_c7dd_11e8_b4aa_5453ed2c875arow4_col7\" class=\"data row4 col7\" >-0.0693446</td> \n",
       "        <td id=\"T_85c837ba_c7dd_11e8_b4aa_5453ed2c875arow4_col8\" class=\"data row4 col8\" >-0.0214617</td> \n",
       "        <td id=\"T_85c837ba_c7dd_11e8_b4aa_5453ed2c875arow4_col9\" class=\"data row4 col9\" >0.122629</td> \n",
       "        <td id=\"T_85c837ba_c7dd_11e8_b4aa_5453ed2c875arow4_col10\" class=\"data row4 col10\" >0.121652</td> \n",
       "        <td id=\"T_85c837ba_c7dd_11e8_b4aa_5453ed2c875arow4_col11\" class=\"data row4 col11\" >0.025103</td> \n",
       "    </tr>    <tr> \n",
       "        <th id=\"T_85c837ba_c7dd_11e8_b4aa_5453ed2c875alevel0_row5\" class=\"row_heading level0 row5\" >Origin Latitude</th> \n",
       "        <td id=\"T_85c837ba_c7dd_11e8_b4aa_5453ed2c875arow5_col0\" class=\"data row5 col0\" >-0.000537804</td> \n",
       "        <td id=\"T_85c837ba_c7dd_11e8_b4aa_5453ed2c875arow5_col1\" class=\"data row5 col1\" >0.00318065</td> \n",
       "        <td id=\"T_85c837ba_c7dd_11e8_b4aa_5453ed2c875arow5_col2\" class=\"data row5 col2\" >0.00208177</td> \n",
       "        <td id=\"T_85c837ba_c7dd_11e8_b4aa_5453ed2c875arow5_col3\" class=\"data row5 col3\" >-0.0784734</td> \n",
       "        <td id=\"T_85c837ba_c7dd_11e8_b4aa_5453ed2c875arow5_col4\" class=\"data row5 col4\" >-0.0029728</td> \n",
       "        <td id=\"T_85c837ba_c7dd_11e8_b4aa_5453ed2c875arow5_col5\" class=\"data row5 col5\" >1</td> \n",
       "        <td id=\"T_85c837ba_c7dd_11e8_b4aa_5453ed2c875arow5_col6\" class=\"data row5 col6\" >-0.0703017</td> \n",
       "        <td id=\"T_85c837ba_c7dd_11e8_b4aa_5453ed2c875arow5_col7\" class=\"data row5 col7\" >0.00553985</td> \n",
       "        <td id=\"T_85c837ba_c7dd_11e8_b4aa_5453ed2c875arow5_col8\" class=\"data row5 col8\" >-0.00188433</td> \n",
       "        <td id=\"T_85c837ba_c7dd_11e8_b4aa_5453ed2c875arow5_col9\" class=\"data row5 col9\" >0.0370869</td> \n",
       "        <td id=\"T_85c837ba_c7dd_11e8_b4aa_5453ed2c875arow5_col10\" class=\"data row5 col10\" >0.0372347</td> \n",
       "        <td id=\"T_85c837ba_c7dd_11e8_b4aa_5453ed2c875arow5_col11\" class=\"data row5 col11\" >0.0110346</td> \n",
       "    </tr>    <tr> \n",
       "        <th id=\"T_85c837ba_c7dd_11e8_b4aa_5453ed2c875alevel0_row6\" class=\"row_heading level0 row6\" >Origin Longitude</th> \n",
       "        <td id=\"T_85c837ba_c7dd_11e8_b4aa_5453ed2c875arow6_col0\" class=\"data row6 col0\" >0.0026111</td> \n",
       "        <td id=\"T_85c837ba_c7dd_11e8_b4aa_5453ed2c875arow6_col1\" class=\"data row6 col1\" >0.00410099</td> \n",
       "        <td id=\"T_85c837ba_c7dd_11e8_b4aa_5453ed2c875arow6_col2\" class=\"data row6 col2\" >0.00646993</td> \n",
       "        <td id=\"T_85c837ba_c7dd_11e8_b4aa_5453ed2c875arow6_col3\" class=\"data row6 col3\" >-0.0100126</td> \n",
       "        <td id=\"T_85c837ba_c7dd_11e8_b4aa_5453ed2c875arow6_col4\" class=\"data row6 col4\" >0.00764918</td> \n",
       "        <td id=\"T_85c837ba_c7dd_11e8_b4aa_5453ed2c875arow6_col5\" class=\"data row6 col5\" >-0.0703017</td> \n",
       "        <td id=\"T_85c837ba_c7dd_11e8_b4aa_5453ed2c875arow6_col6\" class=\"data row6 col6\" >1</td> \n",
       "        <td id=\"T_85c837ba_c7dd_11e8_b4aa_5453ed2c875arow6_col7\" class=\"data row6 col7\" >-6.53681e-05</td> \n",
       "        <td id=\"T_85c837ba_c7dd_11e8_b4aa_5453ed2c875arow6_col8\" class=\"data row6 col8\" >0.00994973</td> \n",
       "        <td id=\"T_85c837ba_c7dd_11e8_b4aa_5453ed2c875arow6_col9\" class=\"data row6 col9\" >0.00114944</td> \n",
       "        <td id=\"T_85c837ba_c7dd_11e8_b4aa_5453ed2c875arow6_col10\" class=\"data row6 col10\" >0.000977464</td> \n",
       "        <td id=\"T_85c837ba_c7dd_11e8_b4aa_5453ed2c875arow6_col11\" class=\"data row6 col11\" >0.000334259</td> \n",
       "    </tr>    <tr> \n",
       "        <th id=\"T_85c837ba_c7dd_11e8_b4aa_5453ed2c875alevel0_row7\" class=\"row_heading level0 row7\" >Destination Latitude</th> \n",
       "        <td id=\"T_85c837ba_c7dd_11e8_b4aa_5453ed2c875arow7_col0\" class=\"data row7 col0\" >0.00283842</td> \n",
       "        <td id=\"T_85c837ba_c7dd_11e8_b4aa_5453ed2c875arow7_col1\" class=\"data row7 col1\" >-0.00341916</td> \n",
       "        <td id=\"T_85c837ba_c7dd_11e8_b4aa_5453ed2c875arow7_col2\" class=\"data row7 col2\" >0.0030563</td> \n",
       "        <td id=\"T_85c837ba_c7dd_11e8_b4aa_5453ed2c875arow7_col3\" class=\"data row7 col3\" >0.0032054</td> \n",
       "        <td id=\"T_85c837ba_c7dd_11e8_b4aa_5453ed2c875arow7_col4\" class=\"data row7 col4\" >-0.0693446</td> \n",
       "        <td id=\"T_85c837ba_c7dd_11e8_b4aa_5453ed2c875arow7_col5\" class=\"data row7 col5\" >0.00553985</td> \n",
       "        <td id=\"T_85c837ba_c7dd_11e8_b4aa_5453ed2c875arow7_col6\" class=\"data row7 col6\" >-6.53681e-05</td> \n",
       "        <td id=\"T_85c837ba_c7dd_11e8_b4aa_5453ed2c875arow7_col7\" class=\"data row7 col7\" >1</td> \n",
       "        <td id=\"T_85c837ba_c7dd_11e8_b4aa_5453ed2c875arow7_col8\" class=\"data row7 col8\" >-0.0626112</td> \n",
       "        <td id=\"T_85c837ba_c7dd_11e8_b4aa_5453ed2c875arow7_col9\" class=\"data row7 col9\" >0.0471854</td> \n",
       "        <td id=\"T_85c837ba_c7dd_11e8_b4aa_5453ed2c875arow7_col10\" class=\"data row7 col10\" >0.0469501</td> \n",
       "        <td id=\"T_85c837ba_c7dd_11e8_b4aa_5453ed2c875arow7_col11\" class=\"data row7 col11\" >0.00628999</td> \n",
       "    </tr>    <tr> \n",
       "        <th id=\"T_85c837ba_c7dd_11e8_b4aa_5453ed2c875alevel0_row8\" class=\"row_heading level0 row8\" >Destination Longitude</th> \n",
       "        <td id=\"T_85c837ba_c7dd_11e8_b4aa_5453ed2c875arow8_col0\" class=\"data row8 col0\" >0.00466279</td> \n",
       "        <td id=\"T_85c837ba_c7dd_11e8_b4aa_5453ed2c875arow8_col1\" class=\"data row8 col1\" >0.00735688</td> \n",
       "        <td id=\"T_85c837ba_c7dd_11e8_b4aa_5453ed2c875arow8_col2\" class=\"data row8 col2\" >-0.00423957</td> \n",
       "        <td id=\"T_85c837ba_c7dd_11e8_b4aa_5453ed2c875arow8_col3\" class=\"data row8 col3\" >-0.00486348</td> \n",
       "        <td id=\"T_85c837ba_c7dd_11e8_b4aa_5453ed2c875arow8_col4\" class=\"data row8 col4\" >-0.0214617</td> \n",
       "        <td id=\"T_85c837ba_c7dd_11e8_b4aa_5453ed2c875arow8_col5\" class=\"data row8 col5\" >-0.00188433</td> \n",
       "        <td id=\"T_85c837ba_c7dd_11e8_b4aa_5453ed2c875arow8_col6\" class=\"data row8 col6\" >0.00994973</td> \n",
       "        <td id=\"T_85c837ba_c7dd_11e8_b4aa_5453ed2c875arow8_col7\" class=\"data row8 col7\" >-0.0626112</td> \n",
       "        <td id=\"T_85c837ba_c7dd_11e8_b4aa_5453ed2c875arow8_col8\" class=\"data row8 col8\" >1</td> \n",
       "        <td id=\"T_85c837ba_c7dd_11e8_b4aa_5453ed2c875arow8_col9\" class=\"data row8 col9\" >-0.000339887</td> \n",
       "        <td id=\"T_85c837ba_c7dd_11e8_b4aa_5453ed2c875arow8_col10\" class=\"data row8 col10\" >-0.000659009</td> \n",
       "        <td id=\"T_85c837ba_c7dd_11e8_b4aa_5453ed2c875arow8_col11\" class=\"data row8 col11\" >0.0100603</td> \n",
       "    </tr>    <tr> \n",
       "        <th id=\"T_85c837ba_c7dd_11e8_b4aa_5453ed2c875alevel0_row9\" class=\"row_heading level0 row9\" >Journey Distance</th> \n",
       "        <td id=\"T_85c837ba_c7dd_11e8_b4aa_5453ed2c875arow9_col0\" class=\"data row9 col0\" >0.000217978</td> \n",
       "        <td id=\"T_85c837ba_c7dd_11e8_b4aa_5453ed2c875arow9_col1\" class=\"data row9 col1\" >0.00183482</td> \n",
       "        <td id=\"T_85c837ba_c7dd_11e8_b4aa_5453ed2c875arow9_col2\" class=\"data row9 col2\" >0.00192042</td> \n",
       "        <td id=\"T_85c837ba_c7dd_11e8_b4aa_5453ed2c875arow9_col3\" class=\"data row9 col3\" >0.133366</td> \n",
       "        <td id=\"T_85c837ba_c7dd_11e8_b4aa_5453ed2c875arow9_col4\" class=\"data row9 col4\" >0.122629</td> \n",
       "        <td id=\"T_85c837ba_c7dd_11e8_b4aa_5453ed2c875arow9_col5\" class=\"data row9 col5\" >0.0370869</td> \n",
       "        <td id=\"T_85c837ba_c7dd_11e8_b4aa_5453ed2c875arow9_col6\" class=\"data row9 col6\" >0.00114944</td> \n",
       "        <td id=\"T_85c837ba_c7dd_11e8_b4aa_5453ed2c875arow9_col7\" class=\"data row9 col7\" >0.0471854</td> \n",
       "        <td id=\"T_85c837ba_c7dd_11e8_b4aa_5453ed2c875arow9_col8\" class=\"data row9 col8\" >-0.000339887</td> \n",
       "        <td id=\"T_85c837ba_c7dd_11e8_b4aa_5453ed2c875arow9_col9\" class=\"data row9 col9\" >1</td> \n",
       "        <td id=\"T_85c837ba_c7dd_11e8_b4aa_5453ed2c875arow9_col10\" class=\"data row9 col10\" >0.996073</td> \n",
       "        <td id=\"T_85c837ba_c7dd_11e8_b4aa_5453ed2c875arow9_col11\" class=\"data row9 col11\" >0.179212</td> \n",
       "    </tr>    <tr> \n",
       "        <th id=\"T_85c837ba_c7dd_11e8_b4aa_5453ed2c875alevel0_row10\" class=\"row_heading level0 row10\" >Travel Time</th> \n",
       "        <td id=\"T_85c837ba_c7dd_11e8_b4aa_5453ed2c875arow10_col0\" class=\"data row10 col0\" >-0.0775089</td> \n",
       "        <td id=\"T_85c837ba_c7dd_11e8_b4aa_5453ed2c875arow10_col1\" class=\"data row10 col1\" >0.00146548</td> \n",
       "        <td id=\"T_85c837ba_c7dd_11e8_b4aa_5453ed2c875arow10_col2\" class=\"data row10 col2\" >0.00157868</td> \n",
       "        <td id=\"T_85c837ba_c7dd_11e8_b4aa_5453ed2c875arow10_col3\" class=\"data row10 col3\" >0.133309</td> \n",
       "        <td id=\"T_85c837ba_c7dd_11e8_b4aa_5453ed2c875arow10_col4\" class=\"data row10 col4\" >0.121652</td> \n",
       "        <td id=\"T_85c837ba_c7dd_11e8_b4aa_5453ed2c875arow10_col5\" class=\"data row10 col5\" >0.0372347</td> \n",
       "        <td id=\"T_85c837ba_c7dd_11e8_b4aa_5453ed2c875arow10_col6\" class=\"data row10 col6\" >0.000977464</td> \n",
       "        <td id=\"T_85c837ba_c7dd_11e8_b4aa_5453ed2c875arow10_col7\" class=\"data row10 col7\" >0.0469501</td> \n",
       "        <td id=\"T_85c837ba_c7dd_11e8_b4aa_5453ed2c875arow10_col8\" class=\"data row10 col8\" >-0.000659009</td> \n",
       "        <td id=\"T_85c837ba_c7dd_11e8_b4aa_5453ed2c875arow10_col9\" class=\"data row10 col9\" >0.996073</td> \n",
       "        <td id=\"T_85c837ba_c7dd_11e8_b4aa_5453ed2c875arow10_col10\" class=\"data row10 col10\" >1</td> \n",
       "        <td id=\"T_85c837ba_c7dd_11e8_b4aa_5453ed2c875arow10_col11\" class=\"data row10 col11\" >0.144485</td> \n",
       "    </tr>    <tr> \n",
       "        <th id=\"T_85c837ba_c7dd_11e8_b4aa_5453ed2c875alevel0_row11\" class=\"row_heading level0 row11\" >Delivery Fare</th> \n",
       "        <td id=\"T_85c837ba_c7dd_11e8_b4aa_5453ed2c875arow11_col0\" class=\"data row11 col0\" >0.437297</td> \n",
       "        <td id=\"T_85c837ba_c7dd_11e8_b4aa_5453ed2c875arow11_col1\" class=\"data row11 col1\" >0.27802</td> \n",
       "        <td id=\"T_85c837ba_c7dd_11e8_b4aa_5453ed2c875arow11_col2\" class=\"data row11 col2\" >0.179715</td> \n",
       "        <td id=\"T_85c837ba_c7dd_11e8_b4aa_5453ed2c875arow11_col3\" class=\"data row11 col3\" >0.0172151</td> \n",
       "        <td id=\"T_85c837ba_c7dd_11e8_b4aa_5453ed2c875arow11_col4\" class=\"data row11 col4\" >0.025103</td> \n",
       "        <td id=\"T_85c837ba_c7dd_11e8_b4aa_5453ed2c875arow11_col5\" class=\"data row11 col5\" >0.0110346</td> \n",
       "        <td id=\"T_85c837ba_c7dd_11e8_b4aa_5453ed2c875arow11_col6\" class=\"data row11 col6\" >0.000334259</td> \n",
       "        <td id=\"T_85c837ba_c7dd_11e8_b4aa_5453ed2c875arow11_col7\" class=\"data row11 col7\" >0.00628999</td> \n",
       "        <td id=\"T_85c837ba_c7dd_11e8_b4aa_5453ed2c875arow11_col8\" class=\"data row11 col8\" >0.0100603</td> \n",
       "        <td id=\"T_85c837ba_c7dd_11e8_b4aa_5453ed2c875arow11_col9\" class=\"data row11 col9\" >0.179212</td> \n",
       "        <td id=\"T_85c837ba_c7dd_11e8_b4aa_5453ed2c875arow11_col10\" class=\"data row11 col10\" >0.144485</td> \n",
       "        <td id=\"T_85c837ba_c7dd_11e8_b4aa_5453ed2c875arow11_col11\" class=\"data row11 col11\" >1</td> \n",
       "    </tr></tbody> \n",
       "</table> "
      ],
      "text/plain": [
       "<pandas.io.formats.style.Styler at 0x1d02922bbe0>"
      ]
     },
     "execution_count": 26,
     "metadata": {},
     "output_type": "execute_result"
    }
   ],
   "source": [
    "# Correlation\n",
    "corr = df.corr()\n",
    "# plot the heatmap\n",
    "corr.style.background_gradient()"
   ]
  },
  {
   "cell_type": "markdown",
   "metadata": {},
   "source": [
    "We see that delivery fare has got correlation with few variables. We'll use these few variables create a model and predict missing data in delivery fare"
   ]
  },
  {
   "cell_type": "code",
   "execution_count": 27,
   "metadata": {},
   "outputs": [
    {
     "name": "stdout",
     "output_type": "stream",
     "text": [
      "\n",
      "Shapes:\n",
      "X_train: (25448, 7)\n",
      "X_test: (12535, 7)\n",
      "Y_train: (25448,)\n",
      "Y_test: (12535,)\n",
      "\n",
      "Fit a model X_train, and calculate MSE with Y_train: 6.095557177880598e-28\n",
      "Fit a model X_train, and calculate MSE with X_test, Y_test: 0.06831240098849044\n",
      "\n",
      "R square: 0.3316641196530854\n",
      "\n",
      "Coefficients: [('Drone Type', 37.16055536102314), ('Post Type', 39.45554602868207), ('Package Weight', 0.8345863204695911), ('Origin Region', -0.020734950637213284), ('Destination Region', 0.017783066874821694), ('Journey Distance', 0.03069093891258945), ('Travel Time', 0.0782585030035392)]\n",
      "Intercept: 29.37111098811981\n"
     ]
    }
   ],
   "source": [
    "# We build model for \"Delivery Fare\" and check with various predictors\n",
    "\n",
    "# We select only the predictors which have good correlation with the target variable\n",
    "delivery_fare_df = df[['Drone Type', 'Post Type', 'Package Weight', 'Origin Region', 'Destination Region', 'Journey Distance', 'Travel Time', 'Delivery Fare']].copy()\n",
    "\n",
    "# Remove all the rows where null because it can cause incorrectness in the model\n",
    "delivery_fare_df = delivery_fare_df.dropna(how='any',axis=0)\n",
    "\n",
    "# Check number of rows and columns in df\n",
    "# delivery_fare_df.info()\n",
    "\n",
    "# Display the count of missing values\n",
    "# delivery_fare_df.isnull().sum()\n",
    "\n",
    "# Create new data without target variable\n",
    "X = delivery_fare_df.drop(['Delivery Fare'], axis = 1)\n",
    "# New data with target variable\n",
    "Y = delivery_fare_df['Delivery Fare']\n",
    "\n",
    "# Method to split X and Y into training and testing sets. \n",
    "# Testing data set will have 33% while training will have 66% of full data\n",
    "X_train, X_test, Y_train, Y_test = train_test_split(X, Y, test_size=0.33, random_state=5)\n",
    "\n",
    "# Print the shape of data and see structure of how much data is splitted\n",
    "print(\"\\nShapes:\")\n",
    "print(\"X_train:\", X_train.shape)\n",
    "print(\"X_test:\", X_test.shape)\n",
    "print(\"Y_train:\", Y_train.shape)\n",
    "print(\"Y_test:\", Y_test.shape)\n",
    "\n",
    "# Create linear regression object\n",
    "lm = LinearRegression()\n",
    "\n",
    "# Train the model using the training sets\n",
    "lm.fit(X_train, Y_train)\n",
    "\n",
    "# Predict for a new observation\n",
    "pred_train = lm.predict(X_train)\n",
    "pred_test = lm.predict(X_test)\n",
    "\n",
    "# MSE\n",
    "print(\"\\nFit a model X_train, and calculate MSE with Y_train:\", np.mean(Y_train - pred_train) ** 2)\n",
    "print(\"Fit a model X_train, and calculate MSE with X_test, Y_test:\", np.mean(Y_test - pred_test) ** 2)\n",
    "\n",
    "# R square:\n",
    "print(\"\\nR square:\", lm.score(X,Y))\n",
    "\n",
    "# Coefficients and intercept\n",
    "print(\"\\nCoefficients:\", list(zip(X_train.columns, lm.coef_)))\n",
    "print(\"Intercept:\", lm.intercept_)"
   ]
  },
  {
   "cell_type": "markdown",
   "metadata": {},
   "source": [
    "Let plot the new predicted data against the true value. This way we'll be able to figure out how well our model is made"
   ]
  },
  {
   "cell_type": "code",
   "execution_count": 28,
   "metadata": {},
   "outputs": [
    {
     "data": {
      "text/plain": [
       "<function matplotlib.pyplot.show>"
      ]
     },
     "execution_count": 28,
     "metadata": {},
     "output_type": "execute_result"
    },
    {
     "data": {
      "image/png": "[encoded data removed]",
      "text/plain": [
       "<Figure size 432x288 with 1 Axes>"
      ]
     },
     "metadata": {},
     "output_type": "display_data"
    }
   ],
   "source": [
    "plt.scatter(pred_train, pred_train - Y_train, c='b', s=2, alpha=0.5)\n",
    "plt.scatter(pred_test, pred_test - Y_test, c='g', s=2, alpha=0.5)\n",
    "plt.hlines(y=0, xmin=0, xmax=500)\n",
    "plt.title(\"Residual error plot using training(blue) and test(green) data\")\n",
    "plt.ylabel(\"Residuals\")\n",
    "plt.show\n",
    "\n",
    "# The scatter plot looks like rainfall.\n",
    "# Jokes apart, we can see the some residual error from the plot"
   ]
  },
  {
   "cell_type": "markdown",
   "metadata": {},
   "source": [
    "In the above model summary, we see that R-square value is 0.33. We'll try to maximise it nearer to 1\n",
    "\n",
    "So we'll try to make another model to maximise R sqare and minimise MSE"
   ]
  },
  {
   "cell_type": "code",
   "execution_count": 29,
   "metadata": {},
   "outputs": [
    {
     "name": "stdout",
     "output_type": "stream",
     "text": [
      "\n",
      "Shapes:\n",
      "X_train: (25448, 5)\n",
      "X_test: (12535, 5)\n",
      "Y_train: (25448,)\n",
      "Y_test: (12535,)\n",
      "\n",
      "Fit a model X_train, and calculate MSE with Y_train: 1.4133301075959944e-28\n",
      "Fit a model X_train, and calculate MSE with X_test, Y_test: 0.0717950567190635\n",
      "\n",
      "R square: 0.33163784907780613\n",
      "\n",
      "Coefficients: [('Drone Type', 37.15942321469522), ('Post Type', 39.45274577355219), ('Package Weight', 0.8344388714912814), ('Journey Distance', 0.030763789793376572), ('Travel Time', 0.07811107795185279)]\n",
      "Intercept: 29.323432843120614\n"
     ]
    }
   ],
   "source": [
    "delivery_fare_df = df[['Drone Type', 'Post Type', 'Package Weight', 'Journey Distance', 'Travel Time', 'Delivery Fare']].copy()\n",
    "\n",
    "# Remove all the rows where null because it can cause incorrectness in the model\n",
    "delivery_fare_df = delivery_fare_df.dropna(how='any',axis=0)\n",
    "\n",
    "# Drop the target variable\n",
    "X = delivery_fare_df.drop(['Delivery Fare'], axis = 1)\n",
    "Y = delivery_fare_df['Delivery Fare']\n",
    "\n",
    "X_train, X_test, Y_train, Y_test = train_test_split(X, Y, test_size=0.33, random_state=5)\n",
    "\n",
    "print(\"\\nShapes:\")\n",
    "print(\"X_train:\", X_train.shape)\n",
    "print(\"X_test:\", X_test.shape)\n",
    "print(\"Y_train:\", Y_train.shape)\n",
    "print(\"Y_test:\", Y_test.shape)\n",
    "\n",
    "lm = LinearRegression()\n",
    "lm.fit(X_train, Y_train)\n",
    "\n",
    "pred_train = lm.predict(X_train)\n",
    "pred_test = lm.predict(X_test)\n",
    "\n",
    "# MSE\n",
    "print(\"\\nFit a model X_train, and calculate MSE with Y_train:\", np.mean(Y_train - pred_train) ** 2)\n",
    "print(\"Fit a model X_train, and calculate MSE with X_test, Y_test:\", np.mean(Y_test - pred_test) ** 2)\n",
    "\n",
    "# R square:\n",
    "print(\"\\nR square:\", lm.score(X,Y))\n",
    "\n",
    "# Coefficients and intercept\n",
    "print(\"\\nCoefficients:\", list(zip(X_train.columns, lm.coef_)))\n",
    "print(\"Intercept:\", lm.intercept_)"
   ]
  },
  {
   "cell_type": "markdown",
   "metadata": {},
   "source": [
    "Here r square value is increased and MSE reduced. THis means this model is better than the earlier one"
   ]
  },
  {
   "cell_type": "code",
   "execution_count": 30,
   "metadata": {
    "scrolled": true
   },
   "outputs": [
    {
     "data": {
      "text/plain": [
       "<function matplotlib.pyplot.show>"
      ]
     },
     "execution_count": 30,
     "metadata": {},
     "output_type": "execute_result"
    },
    {
     "data": {
      "image/png": "[encoded data removed]",
      "text/plain": [
       "<Figure size 432x288 with 1 Axes>"
      ]
     },
     "metadata": {},
     "output_type": "display_data"
    }
   ],
   "source": [
    "plt.scatter(pred_train, pred_train - Y_train, c='b', s=2, alpha=0.5)\n",
    "plt.scatter(pred_test, pred_test - Y_test, c='g', s=2, alpha=0.5)\n",
    "plt.hlines(y=0, xmin=0, xmax=500)\n",
    "plt.title(\"Residual error plot using training(blue) and test(green) data\")\n",
    "plt.ylabel(\"Residuals\")\n",
    "plt.show\n",
    "\n",
    "# We can see the some residual error from the plot. But these are lesser than the previous scatter(rainfall-like) plot"
   ]
  },
  {
   "cell_type": "code",
   "execution_count": 35,
   "metadata": {},
   "outputs": [],
   "source": [
    "df.to_csv(\"29599644_solution.csv\", encoding='utf-8', index=False)"
   ]
  },
  {
   "cell_type": "markdown",
   "metadata": {},
   "source": [
    "## Summary\n",
    "This assignment is about understanding data and handling missing values.\n",
    "\n",
    "Various techniques are used to handle missing values based upon the type of column data and its relationship with other columns\n",
    "\n",
    "Moreover, EDDA methods are also applied"
   ]
  },
  {
   "cell_type": "code",
   "execution_count": null,
   "metadata": {},
   "outputs": [],
   "source": []
  }
 ],
 "metadata": {
  "kernelspec": {
   "display_name": "Python 3",
   "language": "python",
   "name": "python3"
  },
  "language_info": {
   "codemirror_mode": {
    "name": "ipython",
    "version": 3
   },
   "file_extension": ".py",
   "mimetype": "text/x-python",
   "name": "python",
   "nbconvert_exporter": "python",
   "pygments_lexer": "ipython3",
   "version": "3.6.4"
  }
 },
 "nbformat": 4,
 "nbformat_minor": 2
}
